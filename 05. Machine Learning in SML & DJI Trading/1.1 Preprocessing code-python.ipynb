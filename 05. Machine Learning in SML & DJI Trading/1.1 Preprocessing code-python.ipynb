{
 "cells": [
  {
   "cell_type": "code",
   "execution_count": 1,
   "metadata": {},
   "outputs": [],
   "source": [
    "import pandas as pd\n",
    "import numpy as np"
   ]
  },
  {
   "cell_type": "code",
   "execution_count": 2,
   "metadata": {},
   "outputs": [],
   "source": [
    "#calcualte simple moving average\n",
    "def create_sma(price_array, window):\n",
    "    if len(price_array) < window:\n",
    "        return None\n",
    "    sma = np.zeros(len(price_array))\n",
    "    for i in range(window, len(price_array)):\n",
    "        sma[i] = np.sum(price_array[i-window:i])/float(window)\n",
    "    return sma"
   ]
  },
  {
   "cell_type": "code",
   "execution_count": 3,
   "metadata": {},
   "outputs": [],
   "source": [
    "#calculate expotional moving average\n",
    "def create_ema(price_array, sma, window):\n",
    "    if len(price_array) < window:\n",
    "        return None\n",
    "    c = 2./float(window + 1)\n",
    "    ema = np.zeros(len(price_array))\n",
    "    for i in range(window, len(price_array)):\n",
    "        if i == window:\n",
    "            ema[i] = sma[i]\n",
    "        else:\n",
    "            ema[i] = c*(price_array[i] - ema[i-1]) + ema[i-1]\n",
    "    return ema"
   ]
  },
  {
   "cell_type": "code",
   "execution_count": 4,
   "metadata": {},
   "outputs": [],
   "source": [
    "#might not need this\n",
    "def create_mom(price_array, window):\n",
    "    mom =  np.zeros(len(price_array))\n",
    "    for i in range(window, len(price_array)):\n",
    "        mom[i] = price_array[i] - price_array[i-window]\n",
    "    return mom"
   ]
  },
  {
   "cell_type": "code",
   "execution_count": 5,
   "metadata": {},
   "outputs": [],
   "source": [
    "def create_macd(price_array, window = [12, 26]):\n",
    "    sma_12 = create_sma(price_array, window[0])\n",
    "    sma_26 = create_sma(price_array, window[1])\n",
    "    ema_12 = create_ema(price_array, sma_12, window[0])\n",
    "    ema_26 = create_ema(price_array, sma_26, window[1])\n",
    "    diff_ema = ema_12 - ema_26\n",
    "    sma_9 = create_sma(diff_ema, window = 9)\n",
    "    v = create_ema(diff_ema, sma_9, window = 9)\n",
    "    return diff_ema - v"
   ]
  },
  {
   "cell_type": "code",
   "execution_count": 6,
   "metadata": {},
   "outputs": [],
   "source": [
    "#simple return\n",
    "def create_return(price_array, window):\n",
    "    output = np.zeros(len(price_array))\n",
    "    for i in range(window, len(price_array)):\n",
    "        output[i] = float(price_array[i+1] - price_array[i+1-window])/float(price_array[i+1-window])\n",
    "        if i+2 == len(price_array): break\n",
    "    return output"
   ]
  },
  {
   "cell_type": "code",
   "execution_count": 7,
   "metadata": {},
   "outputs": [],
   "source": [
    "#log return,don't know if we need log return or not\n",
    "def create_logreturn(price_array, window):\n",
    "    output = np.zeros(len(price_array))\n",
    "    for i in range(window, len(price_array)):\n",
    "        output[i] = float(np.log(price_array[i+1]) / np.log(price_array[i+1-window]))\n",
    "        if i+2 == len(price_array): break\n",
    "    return output"
   ]
  },
  {
   "cell_type": "code",
   "execution_count": 8,
   "metadata": {},
   "outputs": [],
   "source": [
    "\n",
    "def create_up_down(price_array, window):\n",
    "    pastUD = np.zeros(len(price_array))\n",
    "    for i in range(window+1, len(price_array)):\n",
    "        pastUD[i] = window - 2*np.sum(price_array[i-window:i] < price_array[i-window-1:i-1])\n",
    "    return pastUD"
   ]
  },
  {
   "cell_type": "code",
   "execution_count": 9,
   "metadata": {},
   "outputs": [],
   "source": [
    "def create_day_since_cross(cross_array):\n",
    "    day_since_cross = np.zeros(len(cross_array))\n",
    "    num = 0\n",
    "    for i in range(len(cross_array)):\n",
    "        if cross_array[i] == 0:\n",
    "            num += 1\n",
    "        else:\n",
    "            num = 0\n",
    "        day_since_cross[i] = num\n",
    "    return day_since_cross"
   ]
  },
  {
   "cell_type": "code",
   "execution_count": 10,
   "metadata": {},
   "outputs": [],
   "source": [
    "def create_macd_cross(macd):\n",
    "    macd_cross = np.zeros(len(macd))\n",
    "    for i in range(1, len(macd)):\n",
    "        if macd[i-1] < 0 and macd[i] > 0:\n",
    "            macd_cross[i] = 1\n",
    "        elif macd[i-1] > 0 and macd[i] < 0:\n",
    "            macd_cross[i] = -1\n",
    "        else:\n",
    "            macd_cross[i] = 0\n",
    "    return macd_cross"
   ]
  },
  {
   "cell_type": "code",
   "execution_count": 11,
   "metadata": {},
   "outputs": [],
   "source": [
    "def create_ma_cross(ma, price_array):\n",
    "    ma_cross = np.zeros(len(ma))\n",
    "    for i in range(1, len(ma)):\n",
    "        if ma[i-1] < price_array[i-1] and ma[i] > price_array[i]:\n",
    "            ma_cross[i] = 1\n",
    "        elif ma[i-1] > price_array[i-1] and ma[i] < price_array[i]:\n",
    "            ma_cross[i] = -1\n",
    "        else:\n",
    "            ma_cross[i] = 0\n",
    "    return ma_cross"
   ]
  },
  {
   "cell_type": "code",
   "execution_count": 12,
   "metadata": {},
   "outputs": [],
   "source": [
    "#daily simple return class\n",
    "def create_class(price_array):\n",
    "    output = np.zeros(len(price_array))\n",
    "    for i in range(len(price_array)):\n",
    "        if price_array[i+1] > price_array[i]:\n",
    "            output[i] = 1\n",
    "        if i+2 == len(price_array): break\n",
    "    return output"
   ]
  },
  {
   "cell_type": "code",
   "execution_count": 62,
   "metadata": {},
   "outputs": [],
   "source": [
    "#ATR measures vol\n",
    "def create_atr(price_array, High, Low, window):\n",
    "    if len(price_array)<window:\n",
    "        return None\n",
    "    tr = np.zeros(len(price_array))\n",
    "    atr = np.zeros(len(price_array))    \n",
    "    for i in range(window, len(price_array)):\n",
    "        tr[i] = max((float(High[i]-Low[i]),float(High[i]-price_array[i-1]),float(price_array[i-1]-Low[i])), key=abs)\n",
    "        atr[i] = (np.sum(tr[i-window:i]))/float(window)\n",
    "    return atr"
   ]
  },
  {
   "cell_type": "code",
   "execution_count": 65,
   "metadata": {},
   "outputs": [],
   "source": [
    "def main():\n",
    "\n",
    "    data = pd.read_csv(\"C:\\\\Users\\\\zzzha\\\\Desktop\\\\fts\\\\^DJI.csv\")\n",
    "\n",
    "    df = data\n",
    "\n",
    "    window_sma = [5, 10, 15, 20, 25, 50, 100, 200]\n",
    "    window_ema = [5, 10, 12, 20, 26, 50, 100, 200]\n",
    "    window_atr = [1, 5, 10, 14, 20]\n",
    "\n",
    "    price_val = np.array(df['Adj Close'])\n",
    "    time_val = np.array(df['Date'])\n",
    "    daily_return = create_class(price_val)\n",
    "    high_val = np.array(df['High'])\n",
    "    low_val = np.array(df['Low'])\n",
    "\n",
    "    sma_map = {}\n",
    "    ema_map = {}\n",
    "    mom_map = {}\n",
    "    sma_cross_map = {}\n",
    "    ema_cross_map = {}\n",
    "    up_down_map = {}\n",
    "    \n",
    "    for k, l in zip(window_sma, window_ema):\n",
    "        sma_map[\"SMA\" + str(k)] = create_sma(price_val, k)\n",
    "        sma_map[\"SMA\" + str(l)] = create_sma(price_val, l)\n",
    "        ema_map[\"EMA\" + str(l)] = create_ema(price_val, sma_map[\"SMA\" + str(l)], l)\n",
    "        mom_map[\"MOM\" + str(k)] = create_mom(price_val, k)\n",
    "        sma_cross_map[\"SMA_CROSS\" + str(k)] = create_ma_cross(sma_map[\"SMA\" + str(k)], price_val)\n",
    "        ema_cross_map[\"EMA_CROSS\" + str(l)] = create_ma_cross(ema_map[\"EMA\" + str(l)], price_val)\n",
    "        up_down_map[\"Up-Down\" + str(k)] = create_up_down(price_val, l)\n",
    "\n",
    "    macd_val = create_macd(price_val)\n",
    "    macd_cross = create_macd_cross(macd_val)\n",
    "\n",
    "    day_since_cross_map = {}\n",
    "    for m,l in zip(sma_cross_map.keys(),ema_cross_map.keys()):\n",
    "        day_since_cross_map[\"Day_Since_\" + str(m)] = create_day_since_cross(sma_cross_map[m])\n",
    "        day_since_cross_map[\"Day_Since_\" + str(l)] = create_day_since_cross(ema_cross_map[l])\n",
    "    \n",
    "    atr_map={}\n",
    "    for m in list(window_atr):\n",
    "        atr_map[\"ATR\" + str(m)] = create_atr(price_val, high_val, low_val, m) \n",
    "\n",
    "    raw_data = {'Date':time_val, 'Open': np.array(df['Open']) , 'High': np.array(df['High']) ,\n",
    "                'Low': np.array(df['Low']), 'Close': np.array(df['Close']),'Price': price_val,\n",
    "    'Class': daily_return, 'Volume': np.array(df['Volume']),'SMA5' : sma_map[\"SMA5\"],\n",
    "    'SMA10' : sma_map[\"SMA10\"], 'SMA15' : sma_map[\"SMA15\"], 'SMA20' : sma_map[\"SMA20\"],\n",
    "    'SMA25' : sma_map[\"SMA25\"], 'SMA50' : sma_map[\"SMA50\"], 'SMA100' : sma_map[\"SMA100\"], \n",
    "    'SMA200' : sma_map[\"SMA200\"], 'EMA5' : ema_map[\"EMA5\"], 'EMA10' : ema_map[\"EMA10\"], \n",
    "    'EMA12' : ema_map[\"EMA12\"], 'EMA20' : ema_map[\"EMA20\"], 'EMA26' : ema_map[\"EMA26\"], \n",
    "    'EMA50' : ema_map[\"EMA50\"], 'EMA100' : ema_map[\"EMA100\"], 'EMA200' : ema_map[\"EMA200\"], \n",
    "    'MACD' : macd_val, 'MACD_Cross' : macd_cross,\n",
    "    'SMA5Cross' : sma_cross_map[\"SMA_CROSS5\"], 'SMA10Cross' : sma_cross_map[\"SMA_CROSS10\"],\n",
    "    'SMA15Cross' : sma_cross_map[\"SMA_CROSS15\"], 'SMA20Cross' : sma_cross_map[\"SMA_CROSS20\"],\n",
    "    'SMA25Cross' : sma_cross_map[\"SMA_CROSS25\"], 'SMA50Cross' : sma_cross_map[\"SMA_CROSS50\"], \n",
    "    'SMA100Cross' : sma_cross_map[\"SMA_CROSS100\"], 'SMA200Cross' : sma_cross_map[\"SMA_CROSS200\"],\n",
    "    'EMA5Cross' : ema_cross_map[\"EMA_CROSS5\"], 'EMA10Cross' : ema_cross_map[\"EMA_CROSS10\"],\n",
    "    'EMA12Cross' : ema_cross_map[\"EMA_CROSS12\"], 'EMA20Cross' : ema_cross_map[\"EMA_CROSS20\"], \n",
    "    'EMA26Cross' : ema_cross_map[\"EMA_CROSS26\"], 'EMA50Cross' : ema_cross_map[\"EMA_CROSS50\"], \n",
    "    'EMA100Cross' : ema_cross_map[\"EMA_CROSS100\"], 'EMA200Cross' : ema_cross_map[\"EMA_CROSS200\"],\n",
    "    'Up-Down5' : up_down_map[\"Up-Down5\"],'Up-Down10' : up_down_map[\"Up-Down10\"], 'Up-Down15' : up_down_map[\"Up-Down15\"],\n",
    "    'Up-Down20' : up_down_map[\"Up-Down20\"],'Up-Down50' : up_down_map[\"Up-Down50\"], 'Up-Down100' : up_down_map[\"Up-Down100\"],\n",
    "    'ATR1' : atr_map[\"ATR1\"], 'ATR5' : atr_map[\"ATR5\"], 'ATR10' : atr_map[\"ATR10\"], 'ATR14' : atr_map[\"ATR14\"],\n",
    "    'Day_Since_SMA5Cross' : day_since_cross_map[\"Day_Since_SMA_CROSS5\"], 'Day_Since_SMA10Cross' : day_since_cross_map[\"Day_Since_SMA_CROSS10\"],\n",
    "    'Day_Since_SMA15Cross' : day_since_cross_map[\"Day_Since_SMA_CROSS15\"], 'Day_Since_SMA20Cross' : day_since_cross_map[\"Day_Since_SMA_CROSS20\"],\n",
    "    'Day_Since_SMA50Cross' : day_since_cross_map[\"Day_Since_SMA_CROSS50\"], 'Day_Since_SMA100Cross' : day_since_cross_map[\"Day_Since_SMA_CROSS100\"],\n",
    "    'Day_Since_EMA12Cross' : day_since_cross_map[\"Day_Since_EMA_CROSS12\"], 'Day_Since_EMA10Cross' : day_since_cross_map[\"Day_Since_EMA_CROSS10\"],\n",
    "    'Day_Since_EMA20Cross' : day_since_cross_map[\"Day_Since_EMA_CROSS20\"], 'Day_Since_EMA26Cross' : day_since_cross_map[\"Day_Since_EMA_CROSS26\"],\n",
    "    'Day_Since_EMA50Cross' : day_since_cross_map[\"Day_Since_EMA_CROSS50\"], 'Day_Since_EMA100Cross' : day_since_cross_map[\"Day_Since_EMA_CROSS100\"]\n",
    "    }\n",
    "\n",
    "    data = pd.DataFrame(raw_data)\n",
    "    data[200:len(price_val)].to_csv(\"C:\\\\Users\\\\zzzha\\\\Desktop\\\\fts\\\\dji.csv\")"
   ]
  },
  {
   "cell_type": "code",
   "execution_count": 66,
   "metadata": {},
   "outputs": [],
   "source": [
    "if __name__ == \"__main__\":\n",
    "    main()"
   ]
  },
  {
   "cell_type": "code",
   "execution_count": 67,
   "metadata": {},
   "outputs": [],
   "source": [
    "from sklearn.linear_model import LogisticRegression"
   ]
  },
  {
   "cell_type": "code",
   "execution_count": 68,
   "metadata": {},
   "outputs": [],
   "source": [
    "model = LogisticRegression()"
   ]
  },
  {
   "cell_type": "code",
   "execution_count": 71,
   "metadata": {},
   "outputs": [],
   "source": [
    "dji = pd.read_csv(\"C:\\\\Users\\\\zzzha\\\\Desktop\\\\fts\\\\dji.csv\")"
   ]
  },
  {
   "cell_type": "code",
   "execution_count": 72,
   "metadata": {},
   "outputs": [],
   "source": [
    "test1=dji"
   ]
  },
  {
   "cell_type": "code",
   "execution_count": 76,
   "metadata": {},
   "outputs": [
    {
     "data": {
      "text/html": [
       "<div>\n",
       "<style scoped>\n",
       "    .dataframe tbody tr th:only-of-type {\n",
       "        vertical-align: middle;\n",
       "    }\n",
       "\n",
       "    .dataframe tbody tr th {\n",
       "        vertical-align: top;\n",
       "    }\n",
       "\n",
       "    .dataframe thead th {\n",
       "        text-align: right;\n",
       "    }\n",
       "</style>\n",
       "<table border=\"1\" class=\"dataframe\">\n",
       "  <thead>\n",
       "    <tr style=\"text-align: right;\">\n",
       "      <th></th>\n",
       "      <th>Class</th>\n",
       "    </tr>\n",
       "  </thead>\n",
       "  <tbody>\n",
       "    <tr>\n",
       "      <td>0</td>\n",
       "      <td>1.0</td>\n",
       "    </tr>\n",
       "    <tr>\n",
       "      <td>1</td>\n",
       "      <td>0.0</td>\n",
       "    </tr>\n",
       "    <tr>\n",
       "      <td>2</td>\n",
       "      <td>1.0</td>\n",
       "    </tr>\n",
       "    <tr>\n",
       "      <td>3</td>\n",
       "      <td>0.0</td>\n",
       "    </tr>\n",
       "    <tr>\n",
       "      <td>4</td>\n",
       "      <td>0.0</td>\n",
       "    </tr>\n",
       "    <tr>\n",
       "      <td>...</td>\n",
       "      <td>...</td>\n",
       "    </tr>\n",
       "    <tr>\n",
       "      <td>5146</td>\n",
       "      <td>0.0</td>\n",
       "    </tr>\n",
       "    <tr>\n",
       "      <td>5147</td>\n",
       "      <td>1.0</td>\n",
       "    </tr>\n",
       "    <tr>\n",
       "      <td>5148</td>\n",
       "      <td>0.0</td>\n",
       "    </tr>\n",
       "    <tr>\n",
       "      <td>5149</td>\n",
       "      <td>1.0</td>\n",
       "    </tr>\n",
       "    <tr>\n",
       "      <td>5150</td>\n",
       "      <td>0.0</td>\n",
       "    </tr>\n",
       "  </tbody>\n",
       "</table>\n",
       "<p>5151 rows × 1 columns</p>\n",
       "</div>"
      ],
      "text/plain": [
       "      Class\n",
       "0       1.0\n",
       "1       0.0\n",
       "2       1.0\n",
       "3       0.0\n",
       "4       0.0\n",
       "...     ...\n",
       "5146    0.0\n",
       "5147    1.0\n",
       "5148    0.0\n",
       "5149    1.0\n",
       "5150    0.0\n",
       "\n",
       "[5151 rows x 1 columns]"
      ]
     },
     "execution_count": 76,
     "metadata": {},
     "output_type": "execute_result"
    }
   ],
   "source": [
    "y=test1.iloc[:,7:8]\n",
    "y"
   ]
  },
  {
   "cell_type": "code",
   "execution_count": 77,
   "metadata": {},
   "outputs": [],
   "source": [
    "x=test1.iloc[:, 8: ]"
   ]
  },
  {
   "cell_type": "code",
   "execution_count": 78,
   "metadata": {},
   "outputs": [
    {
     "name": "stderr",
     "output_type": "stream",
     "text": [
      "C:\\Users\\zzzha\\Anaconda3\\lib\\site-packages\\sklearn\\linear_model\\logistic.py:432: FutureWarning: Default solver will be changed to 'lbfgs' in 0.22. Specify a solver to silence this warning.\n",
      "  FutureWarning)\n",
      "C:\\Users\\zzzha\\Anaconda3\\lib\\site-packages\\sklearn\\utils\\validation.py:724: DataConversionWarning: A column-vector y was passed when a 1d array was expected. Please change the shape of y to (n_samples, ), for example using ravel().\n",
      "  y = column_or_1d(y, warn=True)\n"
     ]
    },
    {
     "data": {
      "text/plain": [
       "LogisticRegression(C=1.0, class_weight=None, dual=False, fit_intercept=True,\n",
       "                   intercept_scaling=1, l1_ratio=None, max_iter=100,\n",
       "                   multi_class='warn', n_jobs=None, penalty='l2',\n",
       "                   random_state=None, solver='warn', tol=0.0001, verbose=0,\n",
       "                   warm_start=False)"
      ]
     },
     "execution_count": 78,
     "metadata": {},
     "output_type": "execute_result"
    }
   ],
   "source": [
    "model.fit(x,y)"
   ]
  },
  {
   "cell_type": "code",
   "execution_count": 79,
   "metadata": {},
   "outputs": [],
   "source": [
    "from sklearn import metrics"
   ]
  },
  {
   "cell_type": "code",
   "execution_count": 80,
   "metadata": {},
   "outputs": [],
   "source": [
    "y_pred=model.predict(x)"
   ]
  },
  {
   "cell_type": "code",
   "execution_count": 81,
   "metadata": {},
   "outputs": [
    {
     "name": "stdout",
     "output_type": "stream",
     "text": [
      "              precision    recall  f1-score   support\n",
      "\n",
      "         0.0       0.00      0.00      0.00      2421\n",
      "         1.0       0.53      1.00      0.69      2730\n",
      "\n",
      "    accuracy                           0.53      5151\n",
      "   macro avg       0.26      0.50      0.35      5151\n",
      "weighted avg       0.28      0.53      0.37      5151\n",
      "\n",
      "[[   0 2421]\n",
      " [   0 2730]]\n"
     ]
    },
    {
     "name": "stderr",
     "output_type": "stream",
     "text": [
      "C:\\Users\\zzzha\\Anaconda3\\lib\\site-packages\\sklearn\\metrics\\classification.py:1437: UndefinedMetricWarning: Precision and F-score are ill-defined and being set to 0.0 in labels with no predicted samples.\n",
      "  'precision', 'predicted', average, warn_for)\n"
     ]
    }
   ],
   "source": [
    "print(metrics.classification_report(y, y_pred))\n",
    "print(metrics.confusion_matrix(y, y_pred))"
   ]
  }
 ],
 "metadata": {
  "kernelspec": {
   "display_name": "Python 3",
   "language": "python",
   "name": "python3"
  },
  "language_info": {
   "codemirror_mode": {
    "name": "ipython",
    "version": 3
   },
   "file_extension": ".py",
   "mimetype": "text/x-python",
   "name": "python",
   "nbconvert_exporter": "python",
   "pygments_lexer": "ipython3",
   "version": "3.7.4"
  }
 },
 "nbformat": 4,
 "nbformat_minor": 2
}
