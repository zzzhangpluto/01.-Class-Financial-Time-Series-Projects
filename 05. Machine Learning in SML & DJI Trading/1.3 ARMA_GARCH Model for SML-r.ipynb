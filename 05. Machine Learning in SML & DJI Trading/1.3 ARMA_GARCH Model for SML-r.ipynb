{
 "cells": [
  {
   "cell_type": "code",
   "execution_count": 1,
   "metadata": {},
   "outputs": [
    {
     "name": "stderr",
     "output_type": "stream",
     "text": [
      "Warning message:\n",
      "\"package 'fpp' was built under R version 3.6.2\"Loading required package: forecast\n",
      "Warning message:\n",
      "\"package 'forecast' was built under R version 3.6.2\"Registered S3 method overwritten by 'quantmod':\n",
      "  method            from\n",
      "  as.zoo.data.frame zoo \n",
      "Registered S3 methods overwritten by 'forecast':\n",
      "  method             from    \n",
      "  fitted.fracdiff    fracdiff\n",
      "  residuals.fracdiff fracdiff\n",
      "Loading required package: fma\n",
      "Warning message:\n",
      "\"package 'fma' was built under R version 3.6.2\"Loading required package: expsmooth\n",
      "Warning message:\n",
      "\"package 'expsmooth' was built under R version 3.6.2\"Loading required package: lmtest\n",
      "Warning message:\n",
      "\"package 'lmtest' was built under R version 3.6.2\"Loading required package: zoo\n",
      "\n",
      "Attaching package: 'zoo'\n",
      "\n",
      "The following objects are masked from 'package:base':\n",
      "\n",
      "    as.Date, as.Date.numeric\n",
      "\n",
      "Loading required package: tseries\n",
      "Warning message:\n",
      "\"package 'tseries' was built under R version 3.6.2\"Warning message:\n",
      "\"package 'fpp2' was built under R version 3.6.2\"Loading required package: ggplot2\n",
      "\n",
      "Attaching package: 'fpp2'\n",
      "\n",
      "The following objects are masked from 'package:fpp':\n",
      "\n",
      "    ausair, ausbeer, austa, austourists, debitcards, departures,\n",
      "    elecequip, euretail, guinearice, oil, sunspotarea, usmelec\n",
      "\n",
      "Warning message:\n",
      "\"package 'fGarch' was built under R version 3.6.3\"Loading required package: timeDate\n",
      "Warning message:\n",
      "\"package 'timeDate' was built under R version 3.6.2\"Loading required package: timeSeries\n",
      "Warning message:\n",
      "\"package 'timeSeries' was built under R version 3.6.3\"\n",
      "Attaching package: 'timeSeries'\n",
      "\n",
      "The following object is masked from 'package:zoo':\n",
      "\n",
      "    time<-\n",
      "\n",
      "Loading required package: fBasics\n",
      "Warning message:\n",
      "\"package 'fBasics' was built under R version 3.6.3\"Warning message:\n",
      "\"package 'quantmod' was built under R version 3.6.2\"Loading required package: xts\n",
      "Warning message:\n",
      "\"package 'xts' was built under R version 3.6.2\"Loading required package: TTR\n",
      "Warning message:\n",
      "\"package 'TTR' was built under R version 3.6.2\"\n",
      "Attaching package: 'TTR'\n",
      "\n",
      "The following object is masked from 'package:fBasics':\n",
      "\n",
      "    volatility\n",
      "\n",
      "Version 0.4-0 included new data defaults. See ?getSymbols.\n",
      "Warning message:\n",
      "\"package 'psych' was built under R version 3.6.3\"\n",
      "Attaching package: 'psych'\n",
      "\n",
      "The following object is masked from 'package:fBasics':\n",
      "\n",
      "    tr\n",
      "\n",
      "The following object is masked from 'package:timeSeries':\n",
      "\n",
      "    outlier\n",
      "\n",
      "The following objects are masked from 'package:ggplot2':\n",
      "\n",
      "    %+%, alpha\n",
      "\n",
      "Warning message:\n",
      "\"package 'rugarch' was built under R version 3.6.3\"Loading required package: parallel\n",
      "\n",
      "Attaching package: 'rugarch'\n",
      "\n",
      "The following object is masked from 'package:stats':\n",
      "\n",
      "    sigma\n",
      "\n",
      "Warning message:\n",
      "\"package 'TSA' was built under R version 3.6.3\"Registered S3 methods overwritten by 'TSA':\n",
      "  method       from    \n",
      "  fitted.Arima forecast\n",
      "  plot.Arima   forecast\n",
      "\n",
      "Attaching package: 'TSA'\n",
      "\n",
      "The following objects are masked from 'package:timeDate':\n",
      "\n",
      "    kurtosis, skewness\n",
      "\n",
      "The following objects are masked from 'package:stats':\n",
      "\n",
      "    acf, arima\n",
      "\n",
      "The following object is masked from 'package:utils':\n",
      "\n",
      "    tar\n",
      "\n"
     ]
    }
   ],
   "source": [
    "library(fpp)\n",
    "library(fpp2)\n",
    "library(fGarch)\n",
    "library(quantmod)\n",
    "library(psych)\n",
    "library(rugarch)\n",
    "library(TSA)\n",
    "library(ggplot2)"
   ]
  },
  {
   "cell_type": "code",
   "execution_count": 2,
   "metadata": {},
   "outputs": [
    {
     "name": "stderr",
     "output_type": "stream",
     "text": [
      "'getSymbols' currently uses auto.assign=TRUE by default, but will\n",
      "use auto.assign=FALSE in 0.5-0. You will still be able to use\n",
      "'loadSymbols' to automatically load data. getOption(\"getSymbols.env\")\n",
      "and getOption(\"getSymbols.auto.assign\") will still be checked for\n",
      "alternate defaults.\n",
      "\n",
      "This message is shown once per session and may be disabled by setting \n",
      "options(\"getSymbols.warning4.0\"=FALSE). See ?getSymbols for details.\n",
      "\n",
      "Warning message:\n",
      "\"'indexClass<-' is deprecated.\n",
      "Use 'tclass<-' instead.\n",
      "See help(\"Deprecated\") and help(\"xts-deprecated\").\""
     ]
    },
    {
     "data": {
      "text/html": [
       "'^SML'"
      ],
      "text/latex": [
       "'\\textasciicircum{}SML'"
      ],
      "text/markdown": [
       "'^SML'"
      ],
      "text/plain": [
       "[1] \"^SML\""
      ]
     },
     "metadata": {},
     "output_type": "display_data"
    }
   ],
   "source": [
    "getSymbols(\"^SML\",from='1999-01-01',to='2020-04-08',src='yahoo')"
   ]
  },
  {
   "cell_type": "markdown",
   "metadata": {},
   "source": [
    "### Descriptive statistical analysis"
   ]
  },
  {
   "cell_type": "code",
   "execution_count": 3,
   "metadata": {},
   "outputs": [
    {
     "data": {
      "text/html": [
       "<ol class=list-inline>\n",
       "\t<li>5350</li>\n",
       "\t<li>6</li>\n",
       "</ol>\n"
      ],
      "text/latex": [
       "\\begin{enumerate*}\n",
       "\\item 5350\n",
       "\\item 6\n",
       "\\end{enumerate*}\n"
      ],
      "text/markdown": [
       "1. 5350\n",
       "2. 6\n",
       "\n",
       "\n"
      ],
      "text/plain": [
       "[1] 5350    6"
      ]
     },
     "metadata": {},
     "output_type": "display_data"
    }
   ],
   "source": [
    "dim(SML)"
   ]
  },
  {
   "cell_type": "code",
   "execution_count": 4,
   "metadata": {},
   "outputs": [
    {
     "data": {
      "text/plain": [
       "           SML.Open SML.High SML.Low SML.Close SML.Volume SML.Adjusted\n",
       "1999-01-04   177.37   177.92  176.40    176.41          0       176.41\n",
       "1999-01-05   176.41   176.94  176.21    176.33          0       176.33\n",
       "1999-01-06   176.33   178.77  176.33    178.45          0       178.45\n",
       "1999-01-07   178.45   178.53  176.79    177.94          0       177.94\n",
       "1999-01-08   177.94   179.35  177.47    178.90          0       178.90\n",
       "1999-01-11   178.90   179.59  178.17    179.19          0       179.19"
      ]
     },
     "metadata": {},
     "output_type": "display_data"
    },
    {
     "data": {
      "text/plain": [
       "           SML.Open SML.High SML.Low SML.Close SML.Volume SML.Adjusted\n",
       "2020-03-31   682.74   691.24  671.95    684.84     672900       684.84\n",
       "2020-04-01   663.17   663.17  630.15    635.66     665700       635.66\n",
       "2020-04-02   631.56   657.06  627.26    645.29     699300       645.29\n",
       "2020-04-03   640.98   645.26  610.39    622.35     744200       622.35\n",
       "2020-04-06   645.21   675.91  645.21    674.65     669500       674.65\n",
       "2020-04-07   692.62   709.88  673.13    677.65     824400       677.65"
      ]
     },
     "metadata": {},
     "output_type": "display_data"
    }
   ],
   "source": [
    "head(SML)\n",
    "tail(SML)"
   ]
  },
  {
   "cell_type": "code",
   "execution_count": 37,
   "metadata": {},
   "outputs": [],
   "source": [
    "data=SML[,6]\n",
    "rt=dailyReturn(data,type=\"log\")\n",
    "simplertn=dailyReturn(data)"
   ]
  },
  {
   "cell_type": "code",
   "execution_count": 38,
   "metadata": {},
   "outputs": [
    {
     "data": {
      "image/png": "[encoded data removed]",
      "text/plain": [
       "plot without title"
      ]
     },
     "metadata": {},
     "output_type": "display_data"
    }
   ],
   "source": [
    "plot(data,xlab=\"time\",ylab=\"price\",main=\"s&p smallcap 600\")"
   ]
  },
  {
   "cell_type": "code",
   "execution_count": 7,
   "metadata": {},
   "outputs": [
    {
     "data": {
      "text/plain": [
       "           daily.returns\n",
       "1999-01-04  0.0000000000\n",
       "1999-01-05 -0.0004536032\n",
       "1999-01-06  0.0119511824\n",
       "1999-01-07 -0.0028620071\n",
       "1999-01-08  0.0053805309\n",
       "1999-01-11  0.0016197496"
      ]
     },
     "metadata": {},
     "output_type": "display_data"
    }
   ],
   "source": [
    "head(rt)"
   ]
  },
  {
   "cell_type": "code",
   "execution_count": 8,
   "metadata": {},
   "outputs": [],
   "source": [
    "train=rt[1:5000]"
   ]
  },
  {
   "cell_type": "code",
   "execution_count": 9,
   "metadata": {},
   "outputs": [],
   "source": [
    "test=rt[5001:5350]"
   ]
  },
  {
   "cell_type": "code",
   "execution_count": 10,
   "metadata": {},
   "outputs": [
    {
     "data": {
      "text/plain": [
       "           daily.returns\n",
       "2018-11-06   0.005657306\n",
       "2018-11-07   0.011955523\n",
       "2018-11-08  -0.002553475\n",
       "2018-11-09  -0.017205782\n",
       "2018-11-12  -0.018229206\n",
       "2018-11-13  -0.001823488"
      ]
     },
     "metadata": {},
     "output_type": "display_data"
    }
   ],
   "source": [
    "tail(train)"
   ]
  },
  {
   "cell_type": "code",
   "execution_count": 11,
   "metadata": {},
   "outputs": [
    {
     "data": {
      "text/plain": [
       "           daily.returns\n",
       "2018-11-14  -0.007570492\n",
       "2018-11-15   0.013010126\n",
       "2018-11-16   0.003020892\n",
       "2018-11-19  -0.016464483\n",
       "2018-11-20  -0.018580388\n",
       "2018-11-21   0.009733433"
      ]
     },
     "metadata": {},
     "output_type": "display_data"
    }
   ],
   "source": [
    "head(test)"
   ]
  },
  {
   "cell_type": "code",
   "execution_count": 36,
   "metadata": {},
   "outputs": [
    {
     "data": {
      "image/png": "[encoded data removed]",
      "text/plain": [
       "Plot with title \"s&p smallcap 600 Log Return Distribution\""
      ]
     },
     "metadata": {},
     "output_type": "display_data"
    }
   ],
   "source": [
    "hist(train,main=\"s&p smallcap 600 Log Return Distribution\",col=\"yellow\",xlab=\"\",probability=T)\n",
    "lines(density(train),lwd=1)\n",
    "rug(train)#Data distribution"
   ]
  },
  {
   "cell_type": "code",
   "execution_count": 13,
   "metadata": {},
   "outputs": [
    {
     "data": {
      "image/png": "[encoded data removed]",
      "text/plain": [
       "Plot with title \"Normal Q-Q Plot\""
      ]
     },
     "metadata": {},
     "output_type": "display_data"
    }
   ],
   "source": [
    "qqnorm(train)\n",
    "qqline(train)"
   ]
  },
  {
   "cell_type": "markdown",
   "metadata": {},
   "source": [
    "Financial time series do show sharp peaks and thick tails. Compared to the standard normal distribution, the kurtosis is higher, and the tails of the two segments are thicker, which means more extreme values."
   ]
  },
  {
   "cell_type": "code",
   "execution_count": 14,
   "metadata": {},
   "outputs": [
    {
     "data": {
      "image/png": "[encoded data removed]",
      "text/plain": [
       "plot without title"
      ]
     },
     "metadata": {},
     "output_type": "display_data"
    }
   ],
   "source": [
    "plot(train)"
   ]
  },
  {
   "cell_type": "markdown",
   "metadata": {},
   "source": [
    "The stock index yield series all show a certain degree of volatility and aggregation within the sample interval, of which the fluctuation range is particularly obvious in 2008"
   ]
  },
  {
   "cell_type": "code",
   "execution_count": 15,
   "metadata": {},
   "outputs": [
    {
     "data": {
      "text/html": [
       "<table>\n",
       "<caption>A psych: 1 × 13</caption>\n",
       "<thead>\n",
       "\t<tr><th></th><th scope=col>vars</th><th scope=col>n</th><th scope=col>mean</th><th scope=col>sd</th><th scope=col>median</th><th scope=col>trimmed</th><th scope=col>mad</th><th scope=col>min</th><th scope=col>max</th><th scope=col>range</th><th scope=col>skew</th><th scope=col>kurtosis</th><th scope=col>se</th></tr>\n",
       "\t<tr><th></th><th scope=col>&lt;dbl&gt;</th><th scope=col>&lt;dbl&gt;</th><th scope=col>&lt;dbl&gt;</th><th scope=col>&lt;dbl&gt;</th><th scope=col>&lt;dbl&gt;</th><th scope=col>&lt;dbl&gt;</th><th scope=col>&lt;dbl&gt;</th><th scope=col>&lt;dbl&gt;</th><th scope=col>&lt;dbl&gt;</th><th scope=col>&lt;dbl&gt;</th><th scope=col>&lt;dbl&gt;</th><th scope=col>&lt;dbl&gt;</th><th scope=col>&lt;dbl&gt;</th></tr>\n",
       "</thead>\n",
       "<tbody>\n",
       "\t<tr><th scope=row>X1</th><td>1</td><td>5000</td><td>0.0003374322</td><td>0.01399809</td><td>0.0008332765</td><td>0.0004810626</td><td>0.01088771</td><td>-0.1162522</td><td>0.08115678</td><td>0.197409</td><td>-0.2618735</td><td>4.851362</td><td>0.0001979629</td></tr>\n",
       "</tbody>\n",
       "</table>\n"
      ],
      "text/latex": [
       "A psych: 1 × 13\n",
       "\\begin{tabular}{r|lllllllllllll}\n",
       "  & vars & n & mean & sd & median & trimmed & mad & min & max & range & skew & kurtosis & se\\\\\n",
       "  & <dbl> & <dbl> & <dbl> & <dbl> & <dbl> & <dbl> & <dbl> & <dbl> & <dbl> & <dbl> & <dbl> & <dbl> & <dbl>\\\\\n",
       "\\hline\n",
       "\tX1 & 1 & 5000 & 0.0003374322 & 0.01399809 & 0.0008332765 & 0.0004810626 & 0.01088771 & -0.1162522 & 0.08115678 & 0.197409 & -0.2618735 & 4.851362 & 0.0001979629\\\\\n",
       "\\end{tabular}\n"
      ],
      "text/markdown": [
       "\n",
       "A psych: 1 × 13\n",
       "\n",
       "| <!--/--> | vars &lt;dbl&gt; | n &lt;dbl&gt; | mean &lt;dbl&gt; | sd &lt;dbl&gt; | median &lt;dbl&gt; | trimmed &lt;dbl&gt; | mad &lt;dbl&gt; | min &lt;dbl&gt; | max &lt;dbl&gt; | range &lt;dbl&gt; | skew &lt;dbl&gt; | kurtosis &lt;dbl&gt; | se &lt;dbl&gt; |\n",
       "|---|---|---|---|---|---|---|---|---|---|---|---|---|---|\n",
       "| X1 | 1 | 5000 | 0.0003374322 | 0.01399809 | 0.0008332765 | 0.0004810626 | 0.01088771 | -0.1162522 | 0.08115678 | 0.197409 | -0.2618735 | 4.851362 | 0.0001979629 |\n",
       "\n"
      ],
      "text/plain": [
       "   vars n    mean         sd         median       trimmed      mad       \n",
       "X1 1    5000 0.0003374322 0.01399809 0.0008332765 0.0004810626 0.01088771\n",
       "   min        max        range    skew       kurtosis se          \n",
       "X1 -0.1162522 0.08115678 0.197409 -0.2618735 4.851362 0.0001979629"
      ]
     },
     "metadata": {},
     "output_type": "display_data"
    }
   ],
   "source": [
    "describe(train)"
   ]
  },
  {
   "cell_type": "markdown",
   "metadata": {},
   "source": [
    "### Pure randomness test & Stationarity test"
   ]
  },
  {
   "cell_type": "code",
   "execution_count": 16,
   "metadata": {},
   "outputs": [
    {
     "data": {
      "text/plain": [
       "\n",
       "\tBox-Ljung test\n",
       "\n",
       "data:  train\n",
       "X-squared = 13.068, df = 1, p-value = 0.0003005\n"
      ]
     },
     "metadata": {},
     "output_type": "display_data"
    }
   ],
   "source": [
    "Box.test(train,type='Ljung-Box')"
   ]
  },
  {
   "cell_type": "markdown",
   "metadata": {},
   "source": [
    "The test results show that this time series is not a pure random number series, and can be further tested and modeled."
   ]
  },
  {
   "cell_type": "code",
   "execution_count": 17,
   "metadata": {},
   "outputs": [
    {
     "name": "stderr",
     "output_type": "stream",
     "text": [
      "Warning message in adf.test(train, alt = \"stationary\"):\n",
      "\"p-value smaller than printed p-value\""
     ]
    },
    {
     "data": {
      "text/plain": [
       "\n",
       "\tAugmented Dickey-Fuller Test\n",
       "\n",
       "data:  train\n",
       "Dickey-Fuller = -16.692, Lag order = 17, p-value = 0.01\n",
       "alternative hypothesis: stationary\n"
      ]
     },
     "metadata": {},
     "output_type": "display_data"
    }
   ],
   "source": [
    "adf.test(train,alt=\"stationary\")"
   ]
  },
  {
   "cell_type": "markdown",
   "metadata": {},
   "source": [
    "The test results are consistent with previous research. It is generally believed that the price of financial assets is non-stationary, while the return rate series is stable."
   ]
  },
  {
   "cell_type": "code",
   "execution_count": 18,
   "metadata": {},
   "outputs": [
    {
     "data": {
      "text/html": [
       "0"
      ],
      "text/latex": [
       "0"
      ],
      "text/markdown": [
       "0"
      ],
      "text/plain": [
       "[1] 0"
      ]
     },
     "metadata": {},
     "output_type": "display_data"
    }
   ],
   "source": [
    "ndiffs(train)"
   ]
  },
  {
   "cell_type": "markdown",
   "metadata": {},
   "source": [
    "### ARIMA model & ARCH effect test"
   ]
  },
  {
   "cell_type": "code",
   "execution_count": 19,
   "metadata": {
    "scrolled": false
   },
   "outputs": [
    {
     "data": {
      "image/png": "[encoded data removed]",
      "text/plain": [
       "Plot with title \"Series train\""
      ]
     },
     "metadata": {},
     "output_type": "display_data"
    },
    {
     "data": {
      "image/png": "[encoded data removed]",
      "text/plain": [
       "Plot with title \"Series  train\""
      ]
     },
     "metadata": {},
     "output_type": "display_data"
    }
   ],
   "source": [
    "acf(train)\n",
    "pacf(train)"
   ]
  },
  {
   "cell_type": "code",
   "execution_count": 20,
   "metadata": {
    "scrolled": true
   },
   "outputs": [
    {
     "data": {
      "image/png": "[encoded data removed]",
      "text/plain": [
       "Plot with title \"Series train^2\""
      ]
     },
     "metadata": {},
     "output_type": "display_data"
    },
    {
     "data": {
      "image/png": "[encoded data removed]",
      "text/plain": [
       "Plot with title \"Series  train^2\""
      ]
     },
     "metadata": {},
     "output_type": "display_data"
    }
   ],
   "source": [
    "acf(train^2)\n",
    "pacf(train^2)"
   ]
  },
  {
   "cell_type": "code",
   "execution_count": 21,
   "metadata": {},
   "outputs": [
    {
     "data": {
      "text/plain": [
       "Series: train \n",
       "ARIMA(1,0,1) with non-zero mean \n",
       "\n",
       "Coefficients:\n",
       "         ar1      ma1   mean\n",
       "      0.6369  -0.6844  3e-04\n",
       "s.e.  0.1340   0.1269  2e-04\n",
       "\n",
       "sigma^2 estimated as 0.0001953:  log likelihood=14259.45\n",
       "AIC=-28510.9   AICc=-28510.89   BIC=-28484.83"
      ]
     },
     "metadata": {},
     "output_type": "display_data"
    }
   ],
   "source": [
    "auto.arima(train)"
   ]
  },
  {
   "cell_type": "code",
   "execution_count": 22,
   "metadata": {},
   "outputs": [
    {
     "name": "stdout",
     "output_type": "stream",
     "text": [
      "\n",
      "Call:\n",
      "arima(x = train, order = c(1, 0, 1))\n",
      "\n",
      "Coefficients:\n",
      "         ar1      ma1  intercept\n",
      "      0.6369  -0.6844      3e-04\n",
      "s.e.  0.1340   0.1269      2e-04\n",
      "\n",
      "sigma^2 estimated as 0.0001952:  log likelihood = 14259.45,  aic = -28512.9\n",
      "\n",
      "Training set error measures:\n"
     ]
    },
    {
     "name": "stderr",
     "output_type": "stream",
     "text": [
      "Warning message in trainingaccuracy(f, test, d, D):\n",
      "\"test elements must be within sample\""
     ]
    },
    {
     "name": "stdout",
     "output_type": "stream",
     "text": [
      "              ME RMSE MAE MPE MAPE\n",
      "Training set NaN  NaN NaN NaN  NaN\n"
     ]
    }
   ],
   "source": [
    "m1=arima(train,order=c(1,0,1))\n",
    "summary(m1)"
   ]
  },
  {
   "cell_type": "code",
   "execution_count": 23,
   "metadata": {},
   "outputs": [
    {
     "data": {
      "image/png": "[encoded data removed]",
      "text/plain": [
       "Plot with title \"p values for Ljung-Box statistic\""
      ]
     },
     "metadata": {},
     "output_type": "display_data"
    }
   ],
   "source": [
    "tsdiag(m1)"
   ]
  },
  {
   "cell_type": "code",
   "execution_count": 24,
   "metadata": {},
   "outputs": [
    {
     "data": {
      "text/plain": [
       "\n",
       "\tBox-Ljung test\n",
       "\n",
       "data:  m1$residuals\n",
       "X-squared = 14.619, df = 10, p-value = 0.1466\n"
      ]
     },
     "metadata": {},
     "output_type": "display_data"
    }
   ],
   "source": [
    "Box.test(m1$residuals,10,type='Ljung')"
   ]
  },
  {
   "cell_type": "code",
   "execution_count": 25,
   "metadata": {},
   "outputs": [
    {
     "data": {
      "text/plain": [
       "\n",
       "\tBox-Ljung test\n",
       "\n",
       "data:  m1$residuals^2\n",
       "X-squared = 4661.4, df = 10, p-value < 2.2e-16\n"
      ]
     },
     "metadata": {},
     "output_type": "display_data"
    }
   ],
   "source": [
    "Box.test(m1$residuals^2,10,type='Ljung')"
   ]
  },
  {
   "cell_type": "markdown",
   "metadata": {},
   "source": []
  },
  {
   "cell_type": "code",
   "execution_count": 26,
   "metadata": {},
   "outputs": [
    {
     "name": "stdout",
     "output_type": "stream",
     "text": [
      "\n",
      "Title:\n",
      " GARCH Modelling \n",
      "\n",
      "Call:\n",
      " garchFit(formula = ~arma(1, 1) + garch(1, 1), data = train, trace = F) \n",
      "\n",
      "Mean and Variance Equation:\n",
      " data ~ arma(1, 1) + garch(1, 1)\n",
      "<environment: 0x000000008826a7d8>\n",
      " [data = train]\n",
      "\n",
      "Conditional Distribution:\n",
      " norm \n",
      "\n",
      "Coefficient(s):\n",
      "         mu          ar1          ma1        omega       alpha1        beta1  \n",
      " 2.3515e-05   9.6341e-01  -9.7779e-01   3.1578e-06   8.5292e-02   8.9525e-01  \n",
      "\n",
      "Std. Errors:\n",
      " based on Hessian \n",
      "\n",
      "Error Analysis:\n",
      "         Estimate  Std. Error  t value Pr(>|t|)    \n",
      "mu      2.351e-05   1.298e-05    1.812     0.07 .  \n",
      "ar1     9.634e-01   1.815e-02   53.076  < 2e-16 ***\n",
      "ma1    -9.778e-01   1.413e-02  -69.190  < 2e-16 ***\n",
      "omega   3.158e-06   5.898e-07    5.354 8.61e-08 ***\n",
      "alpha1  8.529e-02   8.646e-03    9.865  < 2e-16 ***\n",
      "beta1   8.952e-01   1.064e-02   84.108  < 2e-16 ***\n",
      "---\n",
      "Signif. codes:  0 '***' 0.001 '**' 0.01 '*' 0.05 '.' 0.1 ' ' 1\n",
      "\n",
      "Log Likelihood:\n",
      " 15084.48    normalized:  3.016896 \n",
      "\n",
      "Description:\n",
      " Fri Apr 24 23:51:55 2020 by user: x4945 \n",
      "\n",
      "\n",
      "Standardised Residuals Tests:\n",
      "                                Statistic p-Value     \n",
      " Jarque-Bera Test   R    Chi^2  98.93038  0           \n",
      " Shapiro-Wilk Test  R    W      NA        NA          \n",
      " Ljung-Box Test     R    Q(10)  8.677132  0.5629943   \n",
      " Ljung-Box Test     R    Q(15)  21.39033  0.1248148   \n",
      " Ljung-Box Test     R    Q(20)  34.55833  0.02258676  \n",
      " Ljung-Box Test     R^2  Q(10)  31.49052  0.0004866805\n",
      " Ljung-Box Test     R^2  Q(15)  34.50359  0.002892039 \n",
      " Ljung-Box Test     R^2  Q(20)  35.17147  0.0192098   \n",
      " LM Arch Test       R    TR^2   30.53423  0.002318891 \n",
      "\n",
      "Information Criterion Statistics:\n",
      "      AIC       BIC       SIC      HQIC \n",
      "-6.031391 -6.023571 -6.031394 -6.028650 \n",
      "\n"
     ]
    }
   ],
   "source": [
    "m2=garchFit(~arma(1,1)+garch(1,1),data=train,trace=F) \n",
    "summary(m2)"
   ]
  },
  {
   "cell_type": "code",
   "execution_count": 27,
   "metadata": {
    "scrolled": false
   },
   "outputs": [
    {
     "name": "stdout",
     "output_type": "stream",
     "text": [
      "\n",
      "Title:\n",
      " GARCH Modelling \n",
      "\n",
      "Call:\n",
      " garchFit(formula = ~arma(1, 1) + garch(1, 1), data = train, cond.dist = c(\"std\"), \n",
      "    trace = F) \n",
      "\n",
      "Mean and Variance Equation:\n",
      " data ~ arma(1, 1) + garch(1, 1)\n",
      "<environment: 0x000000007ff38a00>\n",
      " [data = train]\n",
      "\n",
      "Conditional Distribution:\n",
      " std \n",
      "\n",
      "Coefficient(s):\n",
      "         mu          ar1          ma1        omega       alpha1        beta1  \n",
      " 3.9936e-05   9.4574e-01  -9.6301e-01   2.3851e-06   8.0940e-02   9.0748e-01  \n",
      "      shape  \n",
      " 1.0000e+01  \n",
      "\n",
      "Std. Errors:\n",
      " based on Hessian \n",
      "\n",
      "Error Analysis:\n",
      "         Estimate  Std. Error  t value Pr(>|t|)    \n",
      "mu      3.994e-05   2.711e-05    1.473    0.141    \n",
      "ar1     9.457e-01   3.430e-02   27.571   <2e-16 ***\n",
      "ma1    -9.630e-01   2.855e-02  -33.728   <2e-16 ***\n",
      "omega   2.385e-06   5.807e-07    4.107    4e-05 ***\n",
      "alpha1  8.094e-02   9.268e-03    8.733   <2e-16 ***\n",
      "beta1   9.075e-01   1.067e-02   85.073   <2e-16 ***\n",
      "shape   1.000e+01   1.057e+00    9.457   <2e-16 ***\n",
      "---\n",
      "Signif. codes:  0 '***' 0.001 '**' 0.01 '*' 0.05 '.' 0.1 ' ' 1\n",
      "\n",
      "Log Likelihood:\n",
      " 15093.77    normalized:  3.018755 \n",
      "\n",
      "Description:\n",
      " Fri Apr 24 23:52:17 2020 by user: x4945 \n",
      "\n",
      "\n",
      "Standardised Residuals Tests:\n",
      "                                Statistic p-Value     \n",
      " Jarque-Bera Test   R    Chi^2  114.4195  0           \n",
      " Shapiro-Wilk Test  R    W      NA        NA          \n",
      " Ljung-Box Test     R    Q(10)  9.091217  0.5234692   \n",
      " Ljung-Box Test     R    Q(15)  21.73184  0.1150307   \n",
      " Ljung-Box Test     R    Q(20)  34.49172  0.02298455  \n",
      " Ljung-Box Test     R^2  Q(10)  32.25182  0.0003635178\n",
      " Ljung-Box Test     R^2  Q(15)  36.1008   0.001709553 \n",
      " Ljung-Box Test     R^2  Q(20)  37.19811  0.01107801  \n",
      " LM Arch Test       R    TR^2   31.69273  0.001543114 \n",
      "\n",
      "Information Criterion Statistics:\n",
      "      AIC       BIC       SIC      HQIC \n",
      "-6.034709 -6.025585 -6.034713 -6.031512 \n",
      "\n"
     ]
    }
   ],
   "source": [
    "m4=garchFit(~arma(1,1)+garch(1,1),data=train,trace=F，cond.dist=c(\"std\")) \n",
    "summary(m4)"
   ]
  },
  {
   "cell_type": "code",
   "execution_count": 28,
   "metadata": {},
   "outputs": [
    {
     "name": "stdout",
     "output_type": "stream",
     "text": [
      "\n",
      "Title:\n",
      " GARCH Modelling \n",
      "\n",
      "Call:\n",
      " garchFit(formula = ~arma(1, 1) + garch(1, 1), data = train, cond.dist = c(\"sstd\"), \n",
      "    trace = F) \n",
      "\n",
      "Mean and Variance Equation:\n",
      " data ~ arma(1, 1) + garch(1, 1)\n",
      "<environment: 0x000000008875ade0>\n",
      " [data = train]\n",
      "\n",
      "Conditional Distribution:\n",
      " sstd \n",
      "\n",
      "Coefficient(s):\n",
      "         mu          ar1          ma1        omega       alpha1        beta1  \n",
      " 8.9476e-05   8.4924e-01  -8.8828e-01   2.0852e-06   7.7014e-02   9.1294e-01  \n",
      "       skew        shape  \n",
      " 8.7651e-01   1.0000e+01  \n",
      "\n",
      "Std. Errors:\n",
      " based on Hessian \n",
      "\n",
      "Error Analysis:\n",
      "         Estimate  Std. Error  t value Pr(>|t|)    \n",
      "mu      8.948e-05   3.822e-05    2.341   0.0192 *  \n",
      "ar1     8.492e-01   6.083e-02   13.961  < 2e-16 ***\n",
      "ma1    -8.883e-01   5.275e-02  -16.839  < 2e-16 ***\n",
      "omega   2.085e-06   5.347e-07    3.900 9.62e-05 ***\n",
      "alpha1  7.701e-02   8.670e-03    8.882  < 2e-16 ***\n",
      "beta1   9.129e-01   9.947e-03   91.777  < 2e-16 ***\n",
      "skew    8.765e-01   1.903e-02   46.055  < 2e-16 ***\n",
      "shape   1.000e+01   1.033e+00    9.684  < 2e-16 ***\n",
      "---\n",
      "Signif. codes:  0 '***' 0.001 '**' 0.01 '*' 0.05 '.' 0.1 ' ' 1\n",
      "\n",
      "Log Likelihood:\n",
      " 15112.19    normalized:  3.022438 \n",
      "\n",
      "Description:\n",
      " Fri Apr 24 23:52:29 2020 by user: x4945 \n",
      "\n",
      "\n",
      "Standardised Residuals Tests:\n",
      "                                Statistic p-Value     \n",
      " Jarque-Bera Test   R    Chi^2  137.0195  0           \n",
      " Shapiro-Wilk Test  R    W      NA        NA          \n",
      " Ljung-Box Test     R    Q(10)  18.70379  0.04419035  \n",
      " Ljung-Box Test     R    Q(15)  31.65572  0.007169529 \n",
      " Ljung-Box Test     R    Q(20)  43.52837  0.001739713 \n",
      " Ljung-Box Test     R^2  Q(10)  35.39142  0.0001070415\n",
      " Ljung-Box Test     R^2  Q(15)  39.45888  0.0005470618\n",
      " Ljung-Box Test     R^2  Q(20)  40.75599  0.004003391 \n",
      " LM Arch Test       R    TR^2   35.05794  0.0004584624\n",
      "\n",
      "Information Criterion Statistics:\n",
      "      AIC       BIC       SIC      HQIC \n",
      "-6.041675 -6.031248 -6.041680 -6.038021 \n",
      "\n"
     ]
    }
   ],
   "source": [
    "m6=garchFit(~arma(1,1)+garch(1,1),data=train,trace=F，cond.dist=c(\"sstd\")) \n",
    "summary(m6)"
   ]
  },
  {
   "cell_type": "markdown",
   "metadata": {},
   "source": [
    "compare the AIC of m3 m5 and m7, we choose m7 which has the lowest AIC as our model."
   ]
  },
  {
   "cell_type": "code",
   "execution_count": 29,
   "metadata": {},
   "outputs": [
    {
     "data": {
      "image/png": "[encoded data removed]",
      "text/plain": [
       "plot without title"
      ]
     },
     "metadata": {},
     "output_type": "display_data"
    }
   ],
   "source": [
    "sresi=residuals(m6,standardize=T)\n",
    "qqplot(rsstd(5000,0,1,7.136,0.918),sresi)\n",
    "qqline(sresi)"
   ]
  },
  {
   "cell_type": "code",
   "execution_count": 30,
   "metadata": {
    "scrolled": false
   },
   "outputs": [
    {
     "data": {
      "text/plain": [
       "\n",
       "\tBox-Pierce test\n",
       "\n",
       "data:  sresi\n",
       "X-squared = 2.4317, df = 1, p-value = 0.1189\n"
      ]
     },
     "metadata": {},
     "output_type": "display_data"
    },
    {
     "data": {
      "image/png": "[encoded data removed]",
      "text/plain": [
       "plot without title"
      ]
     },
     "metadata": {},
     "output_type": "display_data"
    }
   ],
   "source": [
    "plot(sresi,xlab='Date',ylab='st.resi',type='l')\n",
    "Box.test(sresi)"
   ]
  },
  {
   "cell_type": "markdown",
   "metadata": {},
   "source": [
    "The above figure and the box test indicate that the residual do not have autocorrelation."
   ]
  },
  {
   "cell_type": "code",
   "execution_count": 31,
   "metadata": {},
   "outputs": [
    {
     "data": {
      "text/html": [
       "<table>\n",
       "<caption>A data.frame: 10 × 3</caption>\n",
       "<thead>\n",
       "\t<tr><th scope=col>meanForecast</th><th scope=col>meanError</th><th scope=col>standardDeviation</th></tr>\n",
       "\t<tr><th scope=col>&lt;dbl&gt;</th><th scope=col>&lt;dbl&gt;</th><th scope=col>&lt;dbl&gt;</th></tr>\n",
       "</thead>\n",
       "<tbody>\n",
       "\t<tr><td>0.0015309844</td><td>0.01366306</td><td>0.01366306</td></tr>\n",
       "\t<tr><td>0.0013896566</td><td>0.01368111</td><td>0.01367071</td></tr>\n",
       "\t<tr><td>0.0012696348</td><td>0.01369618</td><td>0.01367828</td></tr>\n",
       "\t<tr><td>0.0011677068</td><td>0.01370908</td><td>0.01368577</td></tr>\n",
       "\t<tr><td>0.0010811450</td><td>0.01372039</td><td>0.01369318</td></tr>\n",
       "\t<tr><td>0.0010076329</td><td>0.01373054</td><td>0.01370052</td></tr>\n",
       "\t<tr><td>0.0009452030</td><td>0.01373983</td><td>0.01370777</td></tr>\n",
       "\t<tr><td>0.0008921848</td><td>0.01374848</td><td>0.01371495</td></tr>\n",
       "\t<tr><td>0.0008471594</td><td>0.01375665</td><td>0.01372205</td></tr>\n",
       "\t<tr><td>0.0008089217</td><td>0.01376446</td><td>0.01372908</td></tr>\n",
       "</tbody>\n",
       "</table>\n"
      ],
      "text/latex": [
       "A data.frame: 10 × 3\n",
       "\\begin{tabular}{lll}\n",
       " meanForecast & meanError & standardDeviation\\\\\n",
       " <dbl> & <dbl> & <dbl>\\\\\n",
       "\\hline\n",
       "\t 0.0015309844 & 0.01366306 & 0.01366306\\\\\n",
       "\t 0.0013896566 & 0.01368111 & 0.01367071\\\\\n",
       "\t 0.0012696348 & 0.01369618 & 0.01367828\\\\\n",
       "\t 0.0011677068 & 0.01370908 & 0.01368577\\\\\n",
       "\t 0.0010811450 & 0.01372039 & 0.01369318\\\\\n",
       "\t 0.0010076329 & 0.01373054 & 0.01370052\\\\\n",
       "\t 0.0009452030 & 0.01373983 & 0.01370777\\\\\n",
       "\t 0.0008921848 & 0.01374848 & 0.01371495\\\\\n",
       "\t 0.0008471594 & 0.01375665 & 0.01372205\\\\\n",
       "\t 0.0008089217 & 0.01376446 & 0.01372908\\\\\n",
       "\\end{tabular}\n"
      ],
      "text/markdown": [
       "\n",
       "A data.frame: 10 × 3\n",
       "\n",
       "| meanForecast &lt;dbl&gt; | meanError &lt;dbl&gt; | standardDeviation &lt;dbl&gt; |\n",
       "|---|---|---|\n",
       "| 0.0015309844 | 0.01366306 | 0.01366306 |\n",
       "| 0.0013896566 | 0.01368111 | 0.01367071 |\n",
       "| 0.0012696348 | 0.01369618 | 0.01367828 |\n",
       "| 0.0011677068 | 0.01370908 | 0.01368577 |\n",
       "| 0.0010811450 | 0.01372039 | 0.01369318 |\n",
       "| 0.0010076329 | 0.01373054 | 0.01370052 |\n",
       "| 0.0009452030 | 0.01373983 | 0.01370777 |\n",
       "| 0.0008921848 | 0.01374848 | 0.01371495 |\n",
       "| 0.0008471594 | 0.01375665 | 0.01372205 |\n",
       "| 0.0008089217 | 0.01376446 | 0.01372908 |\n",
       "\n"
      ],
      "text/plain": [
       "   meanForecast meanError  standardDeviation\n",
       "1  0.0015309844 0.01366306 0.01366306       \n",
       "2  0.0013896566 0.01368111 0.01367071       \n",
       "3  0.0012696348 0.01369618 0.01367828       \n",
       "4  0.0011677068 0.01370908 0.01368577       \n",
       "5  0.0010811450 0.01372039 0.01369318       \n",
       "6  0.0010076329 0.01373054 0.01370052       \n",
       "7  0.0009452030 0.01373983 0.01370777       \n",
       "8  0.0008921848 0.01374848 0.01371495       \n",
       "9  0.0008471594 0.01375665 0.01372205       \n",
       "10 0.0008089217 0.01376446 0.01372908       "
      ]
     },
     "metadata": {},
     "output_type": "display_data"
    }
   ],
   "source": [
    "pr=predict(m6,10)\n",
    "pr"
   ]
  },
  {
   "cell_type": "code",
   "execution_count": 32,
   "metadata": {},
   "outputs": [
    {
     "data": {
      "text/html": [
       "<ol class=list-inline>\n",
       "\t<li>'meanForecast'</li>\n",
       "\t<li>'meanError'</li>\n",
       "\t<li>'standardDeviation'</li>\n",
       "</ol>\n"
      ],
      "text/latex": [
       "\\begin{enumerate*}\n",
       "\\item 'meanForecast'\n",
       "\\item 'meanError'\n",
       "\\item 'standardDeviation'\n",
       "\\end{enumerate*}\n"
      ],
      "text/markdown": [
       "1. 'meanForecast'\n",
       "2. 'meanError'\n",
       "3. 'standardDeviation'\n",
       "\n",
       "\n"
      ],
      "text/plain": [
       "[1] \"meanForecast\"      \"meanError\"         \"standardDeviation\""
      ]
     },
     "metadata": {},
     "output_type": "display_data"
    }
   ],
   "source": [
    "names(pr)"
   ]
  },
  {
   "cell_type": "code",
   "execution_count": 33,
   "metadata": {},
   "outputs": [
    {
     "data": {
      "text/html": [
       "151"
      ],
      "text/latex": [
       "151"
      ],
      "text/markdown": [
       "151"
      ],
      "text/plain": [
       "[1] 151"
      ]
     },
     "metadata": {},
     "output_type": "display_data"
    }
   ],
   "source": [
    "count1=0 \n",
    "for (i in 1:350) \n",
    "{   \n",
    "    data=rt[i:(5000+i), ]\n",
    "model=garchFit(~arma(1,0)+garch(1,1),data=data,trace=F，cond.dist=c(\"sstd\"))  \n",
    "pre=predict(model,1)[1] \n",
    "if(as.numeric(pre$meanForecast)*(as.numeric(rt[5000+i,1]))>0){     \n",
    "    count1=count1+1    \n",
    "} \n",
    "}\n",
    "count1"
   ]
  },
  {
   "cell_type": "code",
   "execution_count": 34,
   "metadata": {},
   "outputs": [
    {
     "data": {
      "text/html": [
       "0.431428571428571"
      ],
      "text/latex": [
       "0.431428571428571"
      ],
      "text/markdown": [
       "0.431428571428571"
      ],
      "text/plain": [
       "[1] 0.4314286"
      ]
     },
     "metadata": {},
     "output_type": "display_data"
    }
   ],
   "source": [
    "acc1=count1/350 \n",
    "acc1"
   ]
  }
 ],
 "metadata": {
  "kernelspec": {
   "display_name": "R",
   "language": "R",
   "name": "ir"
  },
  "language_info": {
   "codemirror_mode": "r",
   "file_extension": ".r",
   "mimetype": "text/x-r-source",
   "name": "R",
   "pygments_lexer": "r",
   "version": "3.6.1"
  }
 },
 "nbformat": 4,
 "nbformat_minor": 4
}
