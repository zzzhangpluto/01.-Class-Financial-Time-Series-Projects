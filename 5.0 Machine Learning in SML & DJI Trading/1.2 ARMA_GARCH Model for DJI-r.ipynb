{
 "cells": [
  {
   "cell_type": "code",
   "execution_count": 1,
   "metadata": {},
   "outputs": [
    {
     "name": "stderr",
     "output_type": "stream",
     "text": [
      "Warning message:\n",
      "\"package 'fpp' was built under R version 3.6.2\"Loading required package: forecast\n",
      "Warning message:\n",
      "\"package 'forecast' was built under R version 3.6.2\"Registered S3 method overwritten by 'quantmod':\n",
      "  method            from\n",
      "  as.zoo.data.frame zoo \n",
      "Registered S3 methods overwritten by 'forecast':\n",
      "  method             from    \n",
      "  fitted.fracdiff    fracdiff\n",
      "  residuals.fracdiff fracdiff\n",
      "Loading required package: fma\n",
      "Warning message:\n",
      "\"package 'fma' was built under R version 3.6.2\"Loading required package: expsmooth\n",
      "Warning message:\n",
      "\"package 'expsmooth' was built under R version 3.6.2\"Loading required package: lmtest\n",
      "Warning message:\n",
      "\"package 'lmtest' was built under R version 3.6.2\"Loading required package: zoo\n",
      "\n",
      "Attaching package: 'zoo'\n",
      "\n",
      "The following objects are masked from 'package:base':\n",
      "\n",
      "    as.Date, as.Date.numeric\n",
      "\n",
      "Loading required package: tseries\n",
      "Warning message:\n",
      "\"package 'tseries' was built under R version 3.6.2\"Warning message:\n",
      "\"package 'fpp2' was built under R version 3.6.2\"Loading required package: ggplot2\n",
      "\n",
      "Attaching package: 'fpp2'\n",
      "\n",
      "The following objects are masked from 'package:fpp':\n",
      "\n",
      "    ausair, ausbeer, austa, austourists, debitcards, departures,\n",
      "    elecequip, euretail, guinearice, oil, sunspotarea, usmelec\n",
      "\n",
      "Warning message:\n",
      "\"package 'fGarch' was built under R version 3.6.3\"Loading required package: timeDate\n",
      "Warning message:\n",
      "\"package 'timeDate' was built under R version 3.6.2\"Loading required package: timeSeries\n",
      "Warning message:\n",
      "\"package 'timeSeries' was built under R version 3.6.3\"\n",
      "Attaching package: 'timeSeries'\n",
      "\n",
      "The following object is masked from 'package:zoo':\n",
      "\n",
      "    time<-\n",
      "\n",
      "Loading required package: fBasics\n",
      "Warning message:\n",
      "\"package 'fBasics' was built under R version 3.6.3\"Warning message:\n",
      "\"package 'quantmod' was built under R version 3.6.2\"Loading required package: xts\n",
      "Warning message:\n",
      "\"package 'xts' was built under R version 3.6.2\"Loading required package: TTR\n",
      "Warning message:\n",
      "\"package 'TTR' was built under R version 3.6.2\"\n",
      "Attaching package: 'TTR'\n",
      "\n",
      "The following object is masked from 'package:fBasics':\n",
      "\n",
      "    volatility\n",
      "\n",
      "Version 0.4-0 included new data defaults. See ?getSymbols.\n",
      "Warning message:\n",
      "\"package 'psych' was built under R version 3.6.3\"\n",
      "Attaching package: 'psych'\n",
      "\n",
      "The following object is masked from 'package:fBasics':\n",
      "\n",
      "    tr\n",
      "\n",
      "The following object is masked from 'package:timeSeries':\n",
      "\n",
      "    outlier\n",
      "\n",
      "The following objects are masked from 'package:ggplot2':\n",
      "\n",
      "    %+%, alpha\n",
      "\n",
      "Warning message:\n",
      "\"package 'rugarch' was built under R version 3.6.3\"Loading required package: parallel\n",
      "\n",
      "Attaching package: 'rugarch'\n",
      "\n",
      "The following object is masked from 'package:stats':\n",
      "\n",
      "    sigma\n",
      "\n",
      "Warning message:\n",
      "\"package 'TSA' was built under R version 3.6.3\"Registered S3 methods overwritten by 'TSA':\n",
      "  method       from    \n",
      "  fitted.Arima forecast\n",
      "  plot.Arima   forecast\n",
      "\n",
      "Attaching package: 'TSA'\n",
      "\n",
      "The following objects are masked from 'package:timeDate':\n",
      "\n",
      "    kurtosis, skewness\n",
      "\n",
      "The following objects are masked from 'package:stats':\n",
      "\n",
      "    acf, arima\n",
      "\n",
      "The following object is masked from 'package:utils':\n",
      "\n",
      "    tar\n",
      "\n"
     ]
    }
   ],
   "source": [
    "library(fpp)\n",
    "library(fpp2)\n",
    "library(fGarch)\n",
    "library(quantmod)\n",
    "library(psych)\n",
    "library(rugarch)\n",
    "library(TSA)\n",
    "library(ggplot2)"
   ]
  },
  {
   "cell_type": "code",
   "execution_count": 2,
   "metadata": {},
   "outputs": [
    {
     "name": "stderr",
     "output_type": "stream",
     "text": [
      "'getSymbols' currently uses auto.assign=TRUE by default, but will\n",
      "use auto.assign=FALSE in 0.5-0. You will still be able to use\n",
      "'loadSymbols' to automatically load data. getOption(\"getSymbols.env\")\n",
      "and getOption(\"getSymbols.auto.assign\") will still be checked for\n",
      "alternate defaults.\n",
      "\n",
      "This message is shown once per session and may be disabled by setting \n",
      "options(\"getSymbols.warning4.0\"=FALSE). See ?getSymbols for details.\n",
      "\n",
      "Warning message:\n",
      "\"'indexClass<-' is deprecated.\n",
      "Use 'tclass<-' instead.\n",
      "See help(\"Deprecated\") and help(\"xts-deprecated\").\""
     ]
    },
    {
     "data": {
      "text/html": [
       "'^DJI'"
      ],
      "text/latex": [
       "'\\textasciicircum{}DJI'"
      ],
      "text/markdown": [
       "'^DJI'"
      ],
      "text/plain": [
       "[1] \"^DJI\""
      ]
     },
     "metadata": {},
     "output_type": "display_data"
    }
   ],
   "source": [
    "getSymbols(\"^DJI\",from='1999-01-01',to='2020-04-08',src='yahoo')"
   ]
  },
  {
   "cell_type": "markdown",
   "metadata": {},
   "source": [
    "### Descriptive statistical analysis"
   ]
  },
  {
   "cell_type": "code",
   "execution_count": 3,
   "metadata": {},
   "outputs": [
    {
     "data": {
      "text/html": [
       "<ol class=list-inline>\n",
       "\t<li>5350</li>\n",
       "\t<li>6</li>\n",
       "</ol>\n"
      ],
      "text/latex": [
       "\\begin{enumerate*}\n",
       "\\item 5350\n",
       "\\item 6\n",
       "\\end{enumerate*}\n"
      ],
      "text/markdown": [
       "1. 5350\n",
       "2. 6\n",
       "\n",
       "\n"
      ],
      "text/plain": [
       "[1] 5350    6"
      ]
     },
     "metadata": {},
     "output_type": "display_data"
    }
   ],
   "source": [
    "dim(DJI)"
   ]
  },
  {
   "cell_type": "code",
   "execution_count": 4,
   "metadata": {},
   "outputs": [
    {
     "data": {
      "text/plain": [
       "           DJI.Open DJI.High DJI.Low DJI.Close DJI.Volume DJI.Adjusted\n",
       "1999-01-04  9184.01  9350.33 9122.47   9184.27   89410000      9184.27\n",
       "1999-01-05  9184.78  9338.74 9182.98   9311.19   79860000      9311.19\n",
       "1999-01-06  9315.42  9562.22 9315.42   9544.97  103340000      9544.97\n",
       "1999-01-07  9542.14  9542.14 9426.02   9537.76   88290000      9537.76\n",
       "1999-01-08  9538.28  9647.96 9525.41   9643.32  103250000      9643.32\n",
       "1999-01-11  9643.32  9643.32 9532.61   9619.89   98720000      9619.89"
      ]
     },
     "metadata": {},
     "output_type": "display_data"
    },
    {
     "data": {
      "text/plain": [
       "           DJI.Open DJI.High  DJI.Low DJI.Close DJI.Volume DJI.Adjusted\n",
       "2020-03-31 22208.42 22480.37 21852.08  21917.16  571210000     21917.16\n",
       "2020-04-01 21227.38 21487.24 20784.43  20943.51  506680000     20943.51\n",
       "2020-04-02 20819.46 21477.77 20735.02  21413.44  529540000     21413.44\n",
       "2020-04-03 21285.93 21447.81 20863.09  21052.53  450010000     21052.53\n",
       "2020-04-06 21693.63 22783.45 21693.63  22679.99  610760000     22679.99\n",
       "2020-04-07 23537.44 23617.24 22634.45  22653.86  594660000     22653.86"
      ]
     },
     "metadata": {},
     "output_type": "display_data"
    }
   ],
   "source": [
    "head(DJI)\n",
    "tail(DJI)"
   ]
  },
  {
   "cell_type": "code",
   "execution_count": 5,
   "metadata": {},
   "outputs": [],
   "source": [
    "data=DJI[,6]\n",
    "rt=dailyReturn(data,type=\"log\")\n",
    "simplertn=dailyReturn(data)"
   ]
  },
  {
   "cell_type": "code",
   "execution_count": 6,
   "metadata": {},
   "outputs": [
    {
     "data": {
      "image/png": "[encoded data removed]",
      "text/plain": [
       "plot without title"
      ]
     },
     "metadata": {},
     "output_type": "display_data"
    }
   ],
   "source": [
    "plot(data,xlab=\"time\",ylab=\"price\",main=\"Dow Jones\")"
   ]
  },
  {
   "cell_type": "code",
   "execution_count": 7,
   "metadata": {},
   "outputs": [
    {
     "data": {
      "text/plain": [
       "           daily.returns\n",
       "1999-01-04   0.000000000\n",
       "1999-01-05   0.013724762\n",
       "1999-01-06   0.024797337\n",
       "1999-01-07  -0.000755653\n",
       "1999-01-08   0.011006848\n",
       "1999-01-11  -0.002432687"
      ]
     },
     "metadata": {},
     "output_type": "display_data"
    }
   ],
   "source": [
    "head(rt)"
   ]
  },
  {
   "cell_type": "code",
   "execution_count": 45,
   "metadata": {},
   "outputs": [],
   "source": [
    "train=rt[1:5000]"
   ]
  },
  {
   "cell_type": "code",
   "execution_count": 75,
   "metadata": {},
   "outputs": [],
   "source": [
    "test=rt[5001:5350]"
   ]
  },
  {
   "cell_type": "code",
   "execution_count": 46,
   "metadata": {},
   "outputs": [
    {
     "data": {
      "text/plain": [
       "           daily.returns\n",
       "2018-11-06  0.0067836546\n",
       "2018-11-07  0.0210482632\n",
       "2018-11-08  0.0004170176\n",
       "2018-11-09 -0.0077393220\n",
       "2018-11-12 -0.0234406350\n",
       "2018-11-13 -0.0039740396"
      ]
     },
     "metadata": {},
     "output_type": "display_data"
    }
   ],
   "source": [
    "tail(train)"
   ]
  },
  {
   "cell_type": "code",
   "execution_count": 82,
   "metadata": {},
   "outputs": [
    {
     "data": {
      "text/plain": [
       "           daily.returns\n",
       "2018-11-14 -8.179618e-03\n",
       "2018-11-15  8.289525e-03\n",
       "2018-11-16  4.889362e-03\n",
       "2018-11-19 -1.569638e-02\n",
       "2018-11-20 -2.230345e-02\n",
       "2018-11-21 -3.887863e-05"
      ]
     },
     "metadata": {},
     "output_type": "display_data"
    }
   ],
   "source": [
    "head(test)"
   ]
  },
  {
   "cell_type": "code",
   "execution_count": 47,
   "metadata": {},
   "outputs": [
    {
     "data": {
      "image/png": "[encoded data removed]",
      "text/plain": [
       "Plot with title \"Dow Jones Log Return Distribution\""
      ]
     },
     "metadata": {},
     "output_type": "display_data"
    }
   ],
   "source": [
    "hist(train,main=\"Dow Jones Log Return Distribution\",col=\"yellow\",xlab=\"\",probability=T)\n",
    "lines(density(train),lwd=1)\n",
    "rug(train)#Data distribution"
   ]
  },
  {
   "cell_type": "code",
   "execution_count": 48,
   "metadata": {},
   "outputs": [
    {
     "data": {
      "image/png": "[encoded data removed]",
      "text/plain": [
       "Plot with title \"Normal Q-Q Plot\""
      ]
     },
     "metadata": {},
     "output_type": "display_data"
    }
   ],
   "source": [
    "qqnorm(train)\n",
    "qqline(train)"
   ]
  },
  {
   "cell_type": "markdown",
   "metadata": {},
   "source": [
    "Financial time series do show sharp peaks and thick tails. Compared to the standard normal distribution, the kurtosis is higher, and the tails of the two segments are thicker, which means more extreme values."
   ]
  },
  {
   "cell_type": "code",
   "execution_count": 49,
   "metadata": {},
   "outputs": [
    {
     "data": {
      "image/png": "[encoded data removed]",
      "text/plain": [
       "plot without title"
      ]
     },
     "metadata": {},
     "output_type": "display_data"
    }
   ],
   "source": [
    "plot(train)"
   ]
  },
  {
   "cell_type": "markdown",
   "metadata": {},
   "source": [
    "The stock index yield series all show a certain degree of volatility and aggregation within the sample interval, of which the fluctuation range is particularly obvious in 2008"
   ]
  },
  {
   "cell_type": "code",
   "execution_count": 50,
   "metadata": {},
   "outputs": [
    {
     "data": {
      "text/html": [
       "<table>\n",
       "<caption>A psych: 1 × 13</caption>\n",
       "<thead>\n",
       "\t<tr><th></th><th scope=col>vars</th><th scope=col>n</th><th scope=col>mean</th><th scope=col>sd</th><th scope=col>median</th><th scope=col>trimmed</th><th scope=col>mad</th><th scope=col>min</th><th scope=col>max</th><th scope=col>range</th><th scope=col>skew</th><th scope=col>kurtosis</th><th scope=col>se</th></tr>\n",
       "\t<tr><th></th><th scope=col>&lt;dbl&gt;</th><th scope=col>&lt;dbl&gt;</th><th scope=col>&lt;dbl&gt;</th><th scope=col>&lt;dbl&gt;</th><th scope=col>&lt;dbl&gt;</th><th scope=col>&lt;dbl&gt;</th><th scope=col>&lt;dbl&gt;</th><th scope=col>&lt;dbl&gt;</th><th scope=col>&lt;dbl&gt;</th><th scope=col>&lt;dbl&gt;</th><th scope=col>&lt;dbl&gt;</th><th scope=col>&lt;dbl&gt;</th><th scope=col>&lt;dbl&gt;</th></tr>\n",
       "</thead>\n",
       "<tbody>\n",
       "\t<tr><th scope=row>X1</th><td>1</td><td>5000</td><td>0.0002025556</td><td>0.01127183</td><td>0.0004475471</td><td>0.0003787733</td><td>0.007560403</td><td>-0.08200514</td><td>0.1050835</td><td>0.1870886</td><td>-0.1153531</td><td>8.093575</td><td>0.0001594078</td></tr>\n",
       "</tbody>\n",
       "</table>\n"
      ],
      "text/latex": [
       "A psych: 1 × 13\n",
       "\\begin{tabular}{r|lllllllllllll}\n",
       "  & vars & n & mean & sd & median & trimmed & mad & min & max & range & skew & kurtosis & se\\\\\n",
       "  & <dbl> & <dbl> & <dbl> & <dbl> & <dbl> & <dbl> & <dbl> & <dbl> & <dbl> & <dbl> & <dbl> & <dbl> & <dbl>\\\\\n",
       "\\hline\n",
       "\tX1 & 1 & 5000 & 0.0002025556 & 0.01127183 & 0.0004475471 & 0.0003787733 & 0.007560403 & -0.08200514 & 0.1050835 & 0.1870886 & -0.1153531 & 8.093575 & 0.0001594078\\\\\n",
       "\\end{tabular}\n"
      ],
      "text/markdown": [
       "\n",
       "A psych: 1 × 13\n",
       "\n",
       "| <!--/--> | vars &lt;dbl&gt; | n &lt;dbl&gt; | mean &lt;dbl&gt; | sd &lt;dbl&gt; | median &lt;dbl&gt; | trimmed &lt;dbl&gt; | mad &lt;dbl&gt; | min &lt;dbl&gt; | max &lt;dbl&gt; | range &lt;dbl&gt; | skew &lt;dbl&gt; | kurtosis &lt;dbl&gt; | se &lt;dbl&gt; |\n",
       "|---|---|---|---|---|---|---|---|---|---|---|---|---|---|\n",
       "| X1 | 1 | 5000 | 0.0002025556 | 0.01127183 | 0.0004475471 | 0.0003787733 | 0.007560403 | -0.08200514 | 0.1050835 | 0.1870886 | -0.1153531 | 8.093575 | 0.0001594078 |\n",
       "\n"
      ],
      "text/plain": [
       "   vars n    mean         sd         median       trimmed      mad        \n",
       "X1 1    5000 0.0002025556 0.01127183 0.0004475471 0.0003787733 0.007560403\n",
       "   min         max       range     skew       kurtosis se          \n",
       "X1 -0.08200514 0.1050835 0.1870886 -0.1153531 8.093575 0.0001594078"
      ]
     },
     "metadata": {},
     "output_type": "display_data"
    }
   ],
   "source": [
    "describe(train)"
   ]
  },
  {
   "cell_type": "markdown",
   "metadata": {},
   "source": [
    "### Pure randomness test & Stationarity test"
   ]
  },
  {
   "cell_type": "code",
   "execution_count": 51,
   "metadata": {},
   "outputs": [
    {
     "data": {
      "text/plain": [
       "\n",
       "\tBox-Ljung test\n",
       "\n",
       "data:  train\n",
       "X-squared = 22.536, df = 1, p-value = 2.062e-06\n"
      ]
     },
     "metadata": {},
     "output_type": "display_data"
    }
   ],
   "source": [
    "Box.test(train,type='Ljung-Box')"
   ]
  },
  {
   "cell_type": "markdown",
   "metadata": {},
   "source": [
    "The test results show that this time series is not a pure random number series, and can be further tested and modeled."
   ]
  },
  {
   "cell_type": "code",
   "execution_count": 52,
   "metadata": {},
   "outputs": [
    {
     "name": "stderr",
     "output_type": "stream",
     "text": [
      "Warning message in adf.test(train, alt = \"stationary\"):\n",
      "\"p-value smaller than printed p-value\""
     ]
    },
    {
     "data": {
      "text/plain": [
       "\n",
       "\tAugmented Dickey-Fuller Test\n",
       "\n",
       "data:  train\n",
       "Dickey-Fuller = -17.336, Lag order = 17, p-value = 0.01\n",
       "alternative hypothesis: stationary\n"
      ]
     },
     "metadata": {},
     "output_type": "display_data"
    }
   ],
   "source": [
    "adf.test(train,alt=\"stationary\")"
   ]
  },
  {
   "cell_type": "markdown",
   "metadata": {},
   "source": [
    "The test results are consistent with previous research. It is generally believed that the price of financial assets is non-stationary, while the return rate series is stable."
   ]
  },
  {
   "cell_type": "code",
   "execution_count": 53,
   "metadata": {},
   "outputs": [
    {
     "data": {
      "text/html": [
       "0"
      ],
      "text/latex": [
       "0"
      ],
      "text/markdown": [
       "0"
      ],
      "text/plain": [
       "[1] 0"
      ]
     },
     "metadata": {},
     "output_type": "display_data"
    }
   ],
   "source": [
    "ndiffs(train)"
   ]
  },
  {
   "cell_type": "markdown",
   "metadata": {},
   "source": [
    "### ARIMA model & ARCH effect test"
   ]
  },
  {
   "cell_type": "code",
   "execution_count": 54,
   "metadata": {
    "scrolled": false
   },
   "outputs": [
    {
     "data": {
      "image/png": "[encoded data removed]",
      "text/plain": [
       "Plot with title \"Series train\""
      ]
     },
     "metadata": {},
     "output_type": "display_data"
    },
    {
     "data": {
      "image/png": "[encoded data removed]",
      "text/plain": [
       "Plot with title \"Series  train\""
      ]
     },
     "metadata": {},
     "output_type": "display_data"
    }
   ],
   "source": [
    "acf(train)\n",
    "pacf(train)"
   ]
  },
  {
   "cell_type": "code",
   "execution_count": 55,
   "metadata": {},
   "outputs": [
    {
     "data": {
      "image/png": "[encoded data removed]",
      "text/plain": [
       "Plot with title \"Series train^2\""
      ]
     },
     "metadata": {},
     "output_type": "display_data"
    },
    {
     "data": {
      "image/png": "[encoded data removed]",
      "text/plain": [
       "Plot with title \"Series  train^2\""
      ]
     },
     "metadata": {},
     "output_type": "display_data"
    }
   ],
   "source": [
    "acf(train^2)\n",
    "pacf(train^2)"
   ]
  },
  {
   "cell_type": "code",
   "execution_count": 57,
   "metadata": {},
   "outputs": [
    {
     "data": {
      "text/plain": [
       "Series: train \n",
       "ARIMA(5,0,0) with zero mean \n",
       "\n",
       "Coefficients:\n",
       "          ar1      ar2     ar3      ar4      ar5\n",
       "      -0.0688  -0.0464  0.0238  -0.0073  -0.0491\n",
       "s.e.   0.0141   0.0142  0.0142   0.0142   0.0141\n",
       "\n",
       "sigma^2 estimated as 0.0001259:  log likelihood=15357.32\n",
       "AIC=-30702.64   AICc=-30702.62   BIC=-30663.53"
      ]
     },
     "metadata": {},
     "output_type": "display_data"
    }
   ],
   "source": [
    "auto.arima(train)"
   ]
  },
  {
   "cell_type": "code",
   "execution_count": 62,
   "metadata": {},
   "outputs": [
    {
     "name": "stdout",
     "output_type": "stream",
     "text": [
      "\n",
      "Call:\n",
      "arima(x = train, order = c(5, 0, 0))\n",
      "\n",
      "Coefficients:\n",
      "          ar1      ar2     ar3      ar4      ar5  intercept\n",
      "      -0.0693  -0.0469  0.0233  -0.0077  -0.0495      2e-04\n",
      "s.e.   0.0141   0.0142  0.0142   0.0142   0.0141      1e-04\n",
      "\n",
      "sigma^2 estimated as 0.0001257:  log likelihood = 15358.39,  aic = -30704.79\n",
      "\n",
      "Training set error measures:\n"
     ]
    },
    {
     "name": "stderr",
     "output_type": "stream",
     "text": [
      "Warning message in trainingaccuracy(f, test, d, D):\n",
      "\"test elements must be within sample\""
     ]
    },
    {
     "name": "stdout",
     "output_type": "stream",
     "text": [
      "              ME RMSE MAE MPE MAPE\n",
      "Training set NaN  NaN NaN NaN  NaN\n"
     ]
    }
   ],
   "source": [
    "m1=arima(train,order=c(5,0,0))\n",
    "summary(m1)"
   ]
  },
  {
   "cell_type": "code",
   "execution_count": 63,
   "metadata": {},
   "outputs": [
    {
     "data": {
      "image/png": "[encoded data removed]",
      "text/plain": [
       "Plot with title \"p values for Ljung-Box statistic\""
      ]
     },
     "metadata": {},
     "output_type": "display_data"
    }
   ],
   "source": [
    "tsdiag(m1)"
   ]
  },
  {
   "cell_type": "code",
   "execution_count": 64,
   "metadata": {},
   "outputs": [
    {
     "data": {
      "text/plain": [
       "\n",
       "\tBox-Ljung test\n",
       "\n",
       "data:  m1$residuals\n",
       "X-squared = 7.7908, df = 10, p-value = 0.6493\n"
      ]
     },
     "metadata": {},
     "output_type": "display_data"
    }
   ],
   "source": [
    "Box.test(m1$residuals,10,type='Ljung')"
   ]
  },
  {
   "cell_type": "code",
   "execution_count": 65,
   "metadata": {},
   "outputs": [
    {
     "data": {
      "text/plain": [
       "\n",
       "\tBox-Ljung test\n",
       "\n",
       "data:  m1$residuals^2\n",
       "X-squared = 3767.7, df = 10, p-value < 2.2e-16\n"
      ]
     },
     "metadata": {},
     "output_type": "display_data"
    }
   ],
   "source": [
    "Box.test(m1$residuals^2,10,type='Ljung')"
   ]
  },
  {
   "cell_type": "markdown",
   "metadata": {},
   "source": []
  },
  {
   "cell_type": "code",
   "execution_count": 66,
   "metadata": {},
   "outputs": [
    {
     "name": "stdout",
     "output_type": "stream",
     "text": [
      "\n",
      "Title:\n",
      " GARCH Modelling \n",
      "\n",
      "Call:\n",
      " garchFit(formula = ~arma(5, 0) + garch(1, 1), data = train, trace = F) \n",
      "\n",
      "Mean and Variance Equation:\n",
      " data ~ arma(5, 0) + garch(1, 1)\n",
      "<environment: 0x000000007e8c2428>\n",
      " [data = train]\n",
      "\n",
      "Conditional Distribution:\n",
      " norm \n",
      "\n",
      "Coefficient(s):\n",
      "         mu          ar1          ar2          ar3          ar4          ar5  \n",
      " 6.3479e-04  -4.3036e-02  -6.3542e-03   4.2565e-04  -9.8970e-04  -4.2173e-02  \n",
      "      omega       alpha1        beta1  \n",
      " 1.6824e-06   1.0625e-01   8.8043e-01  \n",
      "\n",
      "Std. Errors:\n",
      " based on Hessian \n",
      "\n",
      "Error Analysis:\n",
      "         Estimate  Std. Error  t value Pr(>|t|)    \n",
      "mu      6.348e-04   1.120e-04    5.670 1.43e-08 ***\n",
      "ar1    -4.304e-02   1.525e-02   -2.823  0.00476 ** \n",
      "ar2    -6.354e-03   1.510e-02   -0.421  0.67398    \n",
      "ar3     4.257e-04   1.494e-02    0.028  0.97726    \n",
      "ar4    -9.897e-04   1.485e-02   -0.067  0.94688    \n",
      "ar5    -4.217e-02   1.484e-02   -2.842  0.00448 ** \n",
      "omega   1.682e-06   2.547e-07    6.605 3.97e-11 ***\n",
      "alpha1  1.063e-01   9.036e-03   11.759  < 2e-16 ***\n",
      "beta1   8.804e-01   9.428e-03   93.383  < 2e-16 ***\n",
      "---\n",
      "Signif. codes:  0 '***' 0.001 '**' 0.01 '*' 0.05 '.' 0.1 ' ' 1\n",
      "\n",
      "Log Likelihood:\n",
      " 16410.62    normalized:  3.282124 \n",
      "\n",
      "Description:\n",
      " Fri Apr 24 22:57:43 2020 by user: x4945 \n",
      "\n",
      "\n",
      "Standardised Residuals Tests:\n",
      "                                Statistic p-Value  \n",
      " Jarque-Bera Test   R    Chi^2  676.9083  0        \n",
      " Shapiro-Wilk Test  R    W      NA        NA       \n",
      " Ljung-Box Test     R    Q(10)  3.701933  0.9597932\n",
      " Ljung-Box Test     R    Q(15)  15.35463  0.4261868\n",
      " Ljung-Box Test     R    Q(20)  19.61929  0.4819598\n",
      " Ljung-Box Test     R^2  Q(10)  11.37103  0.3293513\n",
      " Ljung-Box Test     R^2  Q(15)  15.99766  0.3822071\n",
      " Ljung-Box Test     R^2  Q(20)  17.93736  0.591535 \n",
      " LM Arch Test       R    TR^2   11.71512  0.4688218\n",
      "\n",
      "Information Criterion Statistics:\n",
      "      AIC       BIC       SIC      HQIC \n",
      "-6.560648 -6.548917 -6.560655 -6.556537 \n",
      "\n"
     ]
    }
   ],
   "source": [
    "m2=garchFit(~arma(5,0)+garch(1,1),data=train,trace=F) \n",
    "summary(m2)"
   ]
  },
  {
   "cell_type": "code",
   "execution_count": 67,
   "metadata": {
    "scrolled": true
   },
   "outputs": [
    {
     "name": "stdout",
     "output_type": "stream",
     "text": [
      "\n",
      "Title:\n",
      " GARCH Modelling \n",
      "\n",
      "Call:\n",
      " garchFit(formula = ~arma(1, 0) + garch(1, 1), data = train, trace = F) \n",
      "\n",
      "Mean and Variance Equation:\n",
      " data ~ arma(1, 0) + garch(1, 1)\n",
      "<environment: 0x000000008844cbb0>\n",
      " [data = train]\n",
      "\n",
      "Conditional Distribution:\n",
      " norm \n",
      "\n",
      "Coefficient(s):\n",
      "         mu          ar1        omega       alpha1        beta1  \n",
      " 6.1007e-04  -4.2246e-02   1.6860e-06   1.0694e-01   8.7978e-01  \n",
      "\n",
      "Std. Errors:\n",
      " based on Hessian \n",
      "\n",
      "Error Analysis:\n",
      "         Estimate  Std. Error  t value Pr(>|t|)    \n",
      "mu      6.101e-04   1.098e-04    5.555 2.77e-08 ***\n",
      "ar1    -4.225e-02   1.524e-02   -2.772  0.00557 ** \n",
      "omega   1.686e-06   2.548e-07    6.617 3.66e-11 ***\n",
      "alpha1  1.069e-01   9.079e-03   11.779  < 2e-16 ***\n",
      "beta1   8.798e-01   9.448e-03   93.114  < 2e-16 ***\n",
      "---\n",
      "Signif. codes:  0 '***' 0.001 '**' 0.01 '*' 0.05 '.' 0.1 ' ' 1\n",
      "\n",
      "Log Likelihood:\n",
      " 16403.4    normalized:  3.28068 \n",
      "\n",
      "Description:\n",
      " Fri Apr 24 22:57:54 2020 by user: x4945 \n",
      "\n",
      "\n",
      "Standardised Residuals Tests:\n",
      "                                Statistic p-Value   \n",
      " Jarque-Bera Test   R    Chi^2  663.6858  0         \n",
      " Shapiro-Wilk Test  R    W      NA        NA        \n",
      " Ljung-Box Test     R    Q(10)  12.63311  0.2449146 \n",
      " Ljung-Box Test     R    Q(15)  24.21293  0.06156463\n",
      " Ljung-Box Test     R    Q(20)  28.16934  0.1054511 \n",
      " Ljung-Box Test     R^2  Q(10)  10.96775  0.3600364 \n",
      " Ljung-Box Test     R^2  Q(15)  15.96519  0.3843691 \n",
      " Ljung-Box Test     R^2  Q(20)  18.11812  0.5796273 \n",
      " LM Arch Test       R    TR^2   11.77142  0.4642074 \n",
      "\n",
      "Information Criterion Statistics:\n",
      "      AIC       BIC       SIC      HQIC \n",
      "-6.559360 -6.552843 -6.559362 -6.557076 \n",
      "\n"
     ]
    }
   ],
   "source": [
    "m3=garchFit(~arma(1,0)+garch(1,1), data=train,trace=F) \n",
    "summary(m3)"
   ]
  },
  {
   "cell_type": "code",
   "execution_count": 68,
   "metadata": {
    "scrolled": true
   },
   "outputs": [
    {
     "name": "stdout",
     "output_type": "stream",
     "text": [
      "\n",
      "Title:\n",
      " GARCH Modelling \n",
      "\n",
      "Call:\n",
      " garchFit(formula = ~arma(5, 0) + garch(1, 1), data = train, cond.dist = c(\"std\"), \n",
      "    trace = F) \n",
      "\n",
      "Mean and Variance Equation:\n",
      " data ~ arma(5, 0) + garch(1, 1)\n",
      "<environment: 0x0000000088caa9e0>\n",
      " [data = train]\n",
      "\n",
      "Conditional Distribution:\n",
      " std \n",
      "\n",
      "Coefficient(s):\n",
      "         mu          ar1          ar2          ar3          ar4          ar5  \n",
      " 7.5296e-04  -5.0610e-02  -1.4639e-02   1.5047e-03  -1.3433e-02  -4.1226e-02  \n",
      "      omega       alpha1        beta1        shape  \n",
      " 1.0127e-06   1.0288e-01   8.9392e-01   6.6089e+00  \n",
      "\n",
      "Std. Errors:\n",
      " based on Hessian \n",
      "\n",
      "Error Analysis:\n",
      "         Estimate  Std. Error  t value Pr(>|t|)    \n",
      "mu      7.530e-04   1.056e-04    7.131 9.96e-13 ***\n",
      "ar1    -5.061e-02   1.434e-02   -3.529 0.000417 ***\n",
      "ar2    -1.464e-02   1.455e-02   -1.006 0.314281    \n",
      "ar3     1.505e-03   1.436e-02    0.105 0.916523    \n",
      "ar4    -1.343e-02   1.441e-02   -0.932 0.351107    \n",
      "ar5    -4.123e-02   1.420e-02   -2.903 0.003702 ** \n",
      "omega   1.013e-06   2.470e-07    4.101 4.12e-05 ***\n",
      "alpha1  1.029e-01   1.071e-02    9.602  < 2e-16 ***\n",
      "beta1   8.939e-01   1.026e-02   87.131  < 2e-16 ***\n",
      "shape   6.609e+00   6.222e-01   10.622  < 2e-16 ***\n",
      "---\n",
      "Signif. codes:  0 '***' 0.001 '**' 0.01 '*' 0.05 '.' 0.1 ' ' 1\n",
      "\n",
      "Log Likelihood:\n",
      " 16510.34    normalized:  3.302068 \n",
      "\n",
      "Description:\n",
      " Fri Apr 24 22:58:10 2020 by user: x4945 \n",
      "\n",
      "\n",
      "Standardised Residuals Tests:\n",
      "                                Statistic p-Value  \n",
      " Jarque-Bera Test   R    Chi^2  852.2498  0        \n",
      " Shapiro-Wilk Test  R    W      NA        NA       \n",
      " Ljung-Box Test     R    Q(10)  6.419911  0.7788373\n",
      " Ljung-Box Test     R    Q(15)  18.14704  0.2550143\n",
      " Ljung-Box Test     R    Q(20)  22.43194  0.3175395\n",
      " Ljung-Box Test     R^2  Q(10)  10.94114  0.3621219\n",
      " Ljung-Box Test     R^2  Q(15)  17.45464  0.2924197\n",
      " Ljung-Box Test     R^2  Q(20)  21.15556  0.3880276\n",
      " LM Arch Test       R    TR^2   11.35058  0.4991369\n",
      "\n",
      "Information Criterion Statistics:\n",
      "      AIC       BIC       SIC      HQIC \n",
      "-6.600136 -6.587102 -6.600144 -6.595568 \n",
      "\n"
     ]
    }
   ],
   "source": [
    "m4=garchFit(~arma(5,0)+garch(1,1),data=train,trace=F,cond.dist=c(\"std\")) \n",
    "summary(m4)"
   ]
  },
  {
   "cell_type": "code",
   "execution_count": 69,
   "metadata": {},
   "outputs": [
    {
     "name": "stdout",
     "output_type": "stream",
     "text": [
      "\n",
      "Title:\n",
      " GARCH Modelling \n",
      "\n",
      "Call:\n",
      " garchFit(formula = ~arma(1, 0) + garch(1, 1), data = train, cond.dist = c(\"std\"), \n",
      "    trace = F) \n",
      "\n",
      "Mean and Variance Equation:\n",
      " data ~ arma(1, 0) + garch(1, 1)\n",
      "<environment: 0x000000008b59eea0>\n",
      " [data = train]\n",
      "\n",
      "Conditional Distribution:\n",
      " std \n",
      "\n",
      "Coefficient(s):\n",
      "         mu          ar1        omega       alpha1        beta1        shape  \n",
      " 7.0085e-04  -4.9440e-02   1.0236e-06   1.0308e-01   8.9341e-01   6.6957e+00  \n",
      "\n",
      "Std. Errors:\n",
      " based on Hessian \n",
      "\n",
      "Error Analysis:\n",
      "         Estimate  Std. Error  t value Pr(>|t|)    \n",
      "mu      7.008e-04   1.025e-04    6.834 8.23e-12 ***\n",
      "ar1    -4.944e-02   1.435e-02   -3.445 0.000571 ***\n",
      "omega   1.024e-06   2.477e-07    4.132 3.60e-05 ***\n",
      "alpha1  1.031e-01   1.071e-02    9.627  < 2e-16 ***\n",
      "beta1   8.934e-01   1.029e-02   86.847  < 2e-16 ***\n",
      "shape   6.696e+00   6.347e-01   10.549  < 2e-16 ***\n",
      "---\n",
      "Signif. codes:  0 '***' 0.001 '**' 0.01 '*' 0.05 '.' 0.1 ' ' 1\n",
      "\n",
      "Log Likelihood:\n",
      " 16501.48    normalized:  3.300296 \n",
      "\n",
      "Description:\n",
      " Fri Apr 24 22:58:19 2020 by user: x4945 \n",
      "\n",
      "\n",
      "Standardised Residuals Tests:\n",
      "                                Statistic p-Value   \n",
      " Jarque-Bera Test   R    Chi^2  809.7691  0         \n",
      " Shapiro-Wilk Test  R    W      NA        NA        \n",
      " Ljung-Box Test     R    Q(10)  13.55637  0.1942054 \n",
      " Ljung-Box Test     R    Q(15)  25.11087  0.04847409\n",
      " Ljung-Box Test     R    Q(20)  29.04185  0.08693859\n",
      " Ljung-Box Test     R^2  Q(10)  10.47366  0.3999649 \n",
      " Ljung-Box Test     R^2  Q(15)  17.35255  0.2982295 \n",
      " Ljung-Box Test     R^2  Q(20)  21.32114  0.3784523 \n",
      " LM Arch Test       R    TR^2   11.38261  0.4964441 \n",
      "\n",
      "Information Criterion Statistics:\n",
      "      AIC       BIC       SIC      HQIC \n",
      "-6.598193 -6.590372 -6.598196 -6.595452 \n",
      "\n"
     ]
    }
   ],
   "source": [
    "m5=garchFit(~arma(1,0)+garch(1,1),data=train,trace=F,cond.dist=c(\"std\")) \n",
    "summary(m5)"
   ]
  },
  {
   "cell_type": "code",
   "execution_count": 70,
   "metadata": {},
   "outputs": [
    {
     "name": "stdout",
     "output_type": "stream",
     "text": [
      "\n",
      "Title:\n",
      " GARCH Modelling \n",
      "\n",
      "Call:\n",
      " garchFit(formula = ~arma(5, 0) + garch(1, 1), data = train, cond.dist = c(\"sstd\"), \n",
      "    trace = F) \n",
      "\n",
      "Mean and Variance Equation:\n",
      " data ~ arma(5, 0) + garch(1, 1)\n",
      "<environment: 0x0000000088748ea0>\n",
      " [data = train]\n",
      "\n",
      "Conditional Distribution:\n",
      " sstd \n",
      "\n",
      "Coefficient(s):\n",
      "         mu          ar1          ar2          ar3          ar4          ar5  \n",
      " 6.0912e-04  -6.0643e-02  -2.7372e-02  -3.1429e-03  -2.0968e-02  -4.6338e-02  \n",
      "      omega       alpha1        beta1         skew        shape  \n",
      " 9.9925e-07   9.9757e-02   8.9518e-01   9.0487e-01   7.1254e+00  \n",
      "\n",
      "Std. Errors:\n",
      " based on Hessian \n",
      "\n",
      "Error Analysis:\n",
      "         Estimate  Std. Error  t value Pr(>|t|)    \n",
      "mu      6.091e-04   1.091e-04    5.584 2.35e-08 ***\n",
      "ar1    -6.064e-02   1.443e-02   -4.204 2.63e-05 ***\n",
      "ar2    -2.737e-02   1.470e-02   -1.862  0.06254 .  \n",
      "ar3    -3.143e-03   1.438e-02   -0.219  0.82695    \n",
      "ar4    -2.097e-02   1.441e-02   -1.455  0.14553    \n",
      "ar5    -4.634e-02   1.411e-02   -3.283  0.00103 ** \n",
      "omega   9.992e-07   2.362e-07    4.230 2.33e-05 ***\n",
      "alpha1  9.976e-02   1.011e-02    9.866  < 2e-16 ***\n",
      "beta1   8.952e-01   9.870e-03   90.697  < 2e-16 ***\n",
      "skew    9.049e-01   1.785e-02   50.690  < 2e-16 ***\n",
      "shape   7.125e+00   7.201e-01    9.895  < 2e-16 ***\n",
      "---\n",
      "Signif. codes:  0 '***' 0.001 '**' 0.01 '*' 0.05 '.' 0.1 ' ' 1\n",
      "\n",
      "Log Likelihood:\n",
      " 16523.31    normalized:  3.304663 \n",
      "\n",
      "Description:\n",
      " Fri Apr 24 22:58:32 2020 by user: x4945 \n",
      "\n",
      "\n",
      "Standardised Residuals Tests:\n",
      "                                Statistic p-Value  \n",
      " Jarque-Bera Test   R    Chi^2  882.4893  0        \n",
      " Shapiro-Wilk Test  R    W      NA        NA       \n",
      " Ljung-Box Test     R    Q(10)  11.49706  0.3201243\n",
      " Ljung-Box Test     R    Q(15)  22.92224  0.0858048\n",
      " Ljung-Box Test     R    Q(20)  27.17143  0.1305094\n",
      " Ljung-Box Test     R^2  Q(10)  11.09416  0.3502292\n",
      " Ljung-Box Test     R^2  Q(15)  17.35368  0.2981649\n",
      " Ljung-Box Test     R^2  Q(20)  20.95851  0.3995784\n",
      " LM Arch Test       R    TR^2   11.5735   0.4805106\n",
      "\n",
      "Information Criterion Statistics:\n",
      "      AIC       BIC       SIC      HQIC \n",
      "-6.604925 -6.590587 -6.604935 -6.599900 \n",
      "\n"
     ]
    }
   ],
   "source": [
    "m6=garchFit(~arma(5,0)+garch(1,1),data=train,trace=F,cond.dist=c(\"sstd\")) \n",
    "summary(m6)"
   ]
  },
  {
   "cell_type": "code",
   "execution_count": 71,
   "metadata": {},
   "outputs": [
    {
     "name": "stdout",
     "output_type": "stream",
     "text": [
      "\n",
      "Title:\n",
      " GARCH Modelling \n",
      "\n",
      "Call:\n",
      " garchFit(formula = ~arma(1, 0) + garch(1, 1), data = train, cond.dist = c(\"sstd\"), \n",
      "    trace = F) \n",
      "\n",
      "Mean and Variance Equation:\n",
      " data ~ arma(1, 0) + garch(1, 1)\n",
      "<environment: 0x000000008b42ae68>\n",
      " [data = train]\n",
      "\n",
      "Conditional Distribution:\n",
      " sstd \n",
      "\n",
      "Coefficient(s):\n",
      "         mu          ar1        omega       alpha1        beta1         skew  \n",
      " 5.6069e-04  -5.7586e-02   1.0162e-06   1.0102e-01   8.9395e-01   9.1817e-01  \n",
      "      shape  \n",
      " 7.1359e+00  \n",
      "\n",
      "Std. Errors:\n",
      " based on Hessian \n",
      "\n",
      "Error Analysis:\n",
      "         Estimate  Std. Error  t value Pr(>|t|)    \n",
      "mu      5.607e-04   1.071e-04    5.235 1.65e-07 ***\n",
      "ar1    -5.759e-02   1.442e-02   -3.994 6.49e-05 ***\n",
      "omega   1.016e-06   2.398e-07    4.238 2.26e-05 ***\n",
      "alpha1  1.010e-01   1.026e-02    9.850  < 2e-16 ***\n",
      "beta1   8.939e-01   1.001e-02   89.313  < 2e-16 ***\n",
      "skew    9.182e-01   1.753e-02   52.384  < 2e-16 ***\n",
      "shape   7.136e+00   7.200e-01    9.911  < 2e-16 ***\n",
      "---\n",
      "Signif. codes:  0 '***' 0.001 '**' 0.01 '*' 0.05 '.' 0.1 ' ' 1\n",
      "\n",
      "Log Likelihood:\n",
      " 16511.57    normalized:  3.302314 \n",
      "\n",
      "Description:\n",
      " Fri Apr 24 22:58:38 2020 by user: x4945 \n",
      "\n",
      "\n",
      "Standardised Residuals Tests:\n",
      "                                Statistic p-Value   \n",
      " Jarque-Bera Test   R    Chi^2  816.0659  0         \n",
      " Shapiro-Wilk Test  R    W      NA        NA        \n",
      " Ljung-Box Test     R    Q(10)  14.64104  0.1457071 \n",
      " Ljung-Box Test     R    Q(15)  26.05011  0.03749925\n",
      " Ljung-Box Test     R    Q(20)  29.96038  0.07049813\n",
      " Ljung-Box Test     R^2  Q(10)  10.41166  0.4051488 \n",
      " Ljung-Box Test     R^2  Q(15)  17.14338  0.3103656 \n",
      " Ljung-Box Test     R^2  Q(20)  21.00364  0.3969186 \n",
      " LM Arch Test       R    TR^2   11.38002  0.4966623 \n",
      "\n",
      "Information Criterion Statistics:\n",
      "      AIC       BIC       SIC      HQIC \n",
      "-6.601829 -6.592705 -6.601833 -6.598631 \n",
      "\n"
     ]
    }
   ],
   "source": [
    "m7=garchFit(~arma(1,0)+garch(1,1),data=train,trace=F,cond.dist=c(\"sstd\")) \n",
    "summary(m7)"
   ]
  },
  {
   "cell_type": "markdown",
   "metadata": {},
   "source": [
    "compare the AIC of m3 m5 and m7, we choose m7 which has the lowest AIC as our model."
   ]
  },
  {
   "cell_type": "code",
   "execution_count": 72,
   "metadata": {},
   "outputs": [
    {
     "data": {
      "image/png": "[encoded data removed]",
      "text/plain": [
       "plot without title"
      ]
     },
     "metadata": {},
     "output_type": "display_data"
    }
   ],
   "source": [
    "sresi=residuals(m7,standardize=T)\n",
    "qqplot(rsstd(5000,0,1,7.136,0.918),sresi)\n",
    "qqline(sresi)"
   ]
  },
  {
   "cell_type": "code",
   "execution_count": 73,
   "metadata": {
    "scrolled": false
   },
   "outputs": [
    {
     "data": {
      "text/plain": [
       "\n",
       "\tBox-Pierce test\n",
       "\n",
       "data:  sresi\n",
       "X-squared = 2.0584, df = 1, p-value = 0.1514\n"
      ]
     },
     "metadata": {},
     "output_type": "display_data"
    },
    {
     "data": {
      "image/png": "[encoded data removed]",
      "text/plain": [
       "plot without title"
      ]
     },
     "metadata": {},
     "output_type": "display_data"
    }
   ],
   "source": [
    "plot(sresi,xlab='Date',ylab='st.resi',type='l')\n",
    "Box.test(sresi)"
   ]
  },
  {
   "cell_type": "markdown",
   "metadata": {},
   "source": [
    "The above figure and the box test indicate that the residual do not have autocorrelation."
   ]
  },
  {
   "cell_type": "code",
   "execution_count": 81,
   "metadata": {},
   "outputs": [
    {
     "data": {
      "text/html": [
       "<table>\n",
       "<caption>A data.frame: 10 × 3</caption>\n",
       "<thead>\n",
       "\t<tr><th scope=col>meanForecast</th><th scope=col>meanError</th><th scope=col>standardDeviation</th></tr>\n",
       "\t<tr><th scope=col>&lt;dbl&gt;</th><th scope=col>&lt;dbl&gt;</th><th scope=col>&lt;dbl&gt;</th></tr>\n",
       "</thead>\n",
       "<tbody>\n",
       "\t<tr><td>0.0007895384</td><td>0.01309113</td><td>0.01309113</td></tr>\n",
       "\t<tr><td>0.0005152236</td><td>0.01311866</td><td>0.01309698</td></tr>\n",
       "\t<tr><td>0.0005310203</td><td>0.01312455</td><td>0.01310279</td></tr>\n",
       "\t<tr><td>0.0005301106</td><td>0.01313035</td><td>0.01310858</td></tr>\n",
       "\t<tr><td>0.0005301630</td><td>0.01313611</td><td>0.01311433</td></tr>\n",
       "\t<tr><td>0.0005301600</td><td>0.01314184</td><td>0.01312005</td></tr>\n",
       "\t<tr><td>0.0005301601</td><td>0.01314753</td><td>0.01312574</td></tr>\n",
       "\t<tr><td>0.0005301601</td><td>0.01315320</td><td>0.01313139</td></tr>\n",
       "\t<tr><td>0.0005301601</td><td>0.01315884</td><td>0.01313702</td></tr>\n",
       "\t<tr><td>0.0005301601</td><td>0.01316444</td><td>0.01314261</td></tr>\n",
       "</tbody>\n",
       "</table>\n"
      ],
      "text/latex": [
       "A data.frame: 10 × 3\n",
       "\\begin{tabular}{lll}\n",
       " meanForecast & meanError & standardDeviation\\\\\n",
       " <dbl> & <dbl> & <dbl>\\\\\n",
       "\\hline\n",
       "\t 0.0007895384 & 0.01309113 & 0.01309113\\\\\n",
       "\t 0.0005152236 & 0.01311866 & 0.01309698\\\\\n",
       "\t 0.0005310203 & 0.01312455 & 0.01310279\\\\\n",
       "\t 0.0005301106 & 0.01313035 & 0.01310858\\\\\n",
       "\t 0.0005301630 & 0.01313611 & 0.01311433\\\\\n",
       "\t 0.0005301600 & 0.01314184 & 0.01312005\\\\\n",
       "\t 0.0005301601 & 0.01314753 & 0.01312574\\\\\n",
       "\t 0.0005301601 & 0.01315320 & 0.01313139\\\\\n",
       "\t 0.0005301601 & 0.01315884 & 0.01313702\\\\\n",
       "\t 0.0005301601 & 0.01316444 & 0.01314261\\\\\n",
       "\\end{tabular}\n"
      ],
      "text/markdown": [
       "\n",
       "A data.frame: 10 × 3\n",
       "\n",
       "| meanForecast &lt;dbl&gt; | meanError &lt;dbl&gt; | standardDeviation &lt;dbl&gt; |\n",
       "|---|---|---|\n",
       "| 0.0007895384 | 0.01309113 | 0.01309113 |\n",
       "| 0.0005152236 | 0.01311866 | 0.01309698 |\n",
       "| 0.0005310203 | 0.01312455 | 0.01310279 |\n",
       "| 0.0005301106 | 0.01313035 | 0.01310858 |\n",
       "| 0.0005301630 | 0.01313611 | 0.01311433 |\n",
       "| 0.0005301600 | 0.01314184 | 0.01312005 |\n",
       "| 0.0005301601 | 0.01314753 | 0.01312574 |\n",
       "| 0.0005301601 | 0.01315320 | 0.01313139 |\n",
       "| 0.0005301601 | 0.01315884 | 0.01313702 |\n",
       "| 0.0005301601 | 0.01316444 | 0.01314261 |\n",
       "\n"
      ],
      "text/plain": [
       "   meanForecast meanError  standardDeviation\n",
       "1  0.0007895384 0.01309113 0.01309113       \n",
       "2  0.0005152236 0.01311866 0.01309698       \n",
       "3  0.0005310203 0.01312455 0.01310279       \n",
       "4  0.0005301106 0.01313035 0.01310858       \n",
       "5  0.0005301630 0.01313611 0.01311433       \n",
       "6  0.0005301600 0.01314184 0.01312005       \n",
       "7  0.0005301601 0.01314753 0.01312574       \n",
       "8  0.0005301601 0.01315320 0.01313139       \n",
       "9  0.0005301601 0.01315884 0.01313702       \n",
       "10 0.0005301601 0.01316444 0.01314261       "
      ]
     },
     "metadata": {},
     "output_type": "display_data"
    }
   ],
   "source": [
    "pr=predict(m7,10)\n",
    "pr"
   ]
  },
  {
   "cell_type": "code",
   "execution_count": 83,
   "metadata": {},
   "outputs": [
    {
     "data": {
      "text/html": [
       "<ol class=list-inline>\n",
       "\t<li>'meanForecast'</li>\n",
       "\t<li>'meanError'</li>\n",
       "\t<li>'standardDeviation'</li>\n",
       "</ol>\n"
      ],
      "text/latex": [
       "\\begin{enumerate*}\n",
       "\\item 'meanForecast'\n",
       "\\item 'meanError'\n",
       "\\item 'standardDeviation'\n",
       "\\end{enumerate*}\n"
      ],
      "text/markdown": [
       "1. 'meanForecast'\n",
       "2. 'meanError'\n",
       "3. 'standardDeviation'\n",
       "\n",
       "\n"
      ],
      "text/plain": [
       "[1] \"meanForecast\"      \"meanError\"         \"standardDeviation\""
      ]
     },
     "metadata": {},
     "output_type": "display_data"
    }
   ],
   "source": [
    "names(pr)"
   ]
  },
  {
   "cell_type": "code",
   "execution_count": 89,
   "metadata": {},
   "outputs": [
    {
     "data": {
      "text/html": [
       "141"
      ],
      "text/latex": [
       "141"
      ],
      "text/markdown": [
       "141"
      ],
      "text/plain": [
       "[1] 141"
      ]
     },
     "metadata": {},
     "output_type": "display_data"
    }
   ],
   "source": [
    "count1=0 \n",
    "for (i in 1:350) \n",
    "{   \n",
    "    data=rt[i:(5000+i), ]\n",
    "model=garchFit(~arma(1,0)+garch(1,1),data=data,trace=F，cond.dist=c(\"sstd\"))  \n",
    "pre=predict(model,1)[1] \n",
    "if(as.numeric(pre$meanForecast)*(as.numeric(rt[5000+i,1]))>0){     \n",
    "    count1=count1+1    \n",
    "} \n",
    "}\n",
    "count1"
   ]
  },
  {
   "cell_type": "code",
   "execution_count": 90,
   "metadata": {},
   "outputs": [
    {
     "data": {
      "text/html": [
       "0.402857142857143"
      ],
      "text/latex": [
       "0.402857142857143"
      ],
      "text/markdown": [
       "0.402857142857143"
      ],
      "text/plain": [
       "[1] 0.4028571"
      ]
     },
     "metadata": {},
     "output_type": "display_data"
    }
   ],
   "source": [
    "acc1=count1/350 \n",
    "acc1"
   ]
  }
 ],
 "metadata": {
  "kernelspec": {
   "display_name": "Python 3",
   "language": "python",
   "name": "python3"
  },
  "language_info": {
   "codemirror_mode": {
    "name": "ipython",
    "version": 3
   },
   "file_extension": ".py",
   "mimetype": "text/x-python",
   "name": "python",
   "nbconvert_exporter": "python",
   "pygments_lexer": "ipython3",
   "version": "3.7.4"
  }
 },
 "nbformat": 4,
 "nbformat_minor": 4
}
